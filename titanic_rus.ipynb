{
  "nbformat": 4,
  "nbformat_minor": 0,
  "metadata": {
    "colab": {
      "name": "titanic.ipynb",
      "provenance": [],
      "collapsed_sections": []
    },
    "kernelspec": {
      "name": "python_defaultSpec_1601503331923",
      "display_name": "Python 3.8.3 64-bit ('univer')",
      "metadata": {
        "interpreter": {
          "hash": "50dfa9e6750c0ee0a79d8f54f85039f18d1b29b3dbd3c14ba2c4170ffbe9984b"
        }
      }
    },
    "accelerator": "GPU",
    "widgets": {
      "application/vnd.jupyter.widget-state+json": {
        "a3c7a0e4ad454a1ea835d82426b12ee9": {
          "model_module": "plotlywidget",
          "model_name": "FigureModel",
          "state": {
            "_view_name": "FigureView",
            "_py2js_animate": {},
            "_py2js_removeLayoutProps": {},
            "_last_trace_edit_id": 711,
            "_view_module": "plotlywidget",
            "_model_module_version": "^1.4.0",
            "_view_count": 0,
            "_js2py_relayout": {},
            "_py2js_moveTraces": {},
            "_py2js_addTraces": null,
            "_model_module": "plotlywidget",
            "_py2js_relayout": null,
            "_js2py_pointsCallback": {},
            "_js2py_update": {},
            "_js2py_restyle": {},
            "_py2js_removeTraceProps": {},
            "_py2js_deleteTraces": {},
            "_dom_classes": [],
            "_model_name": "FigureModel",
            "_layout": {},
            "_js2py_layoutDelta": {},
            "_py2js_update": null,
            "_data": [],
            "_config": {
              "plotlyServerURL": "https://plot.ly"
            },
            "_py2js_restyle": null,
            "_view_module_version": "^1.4.0",
            "_last_layout_edit_id": 711,
            "_js2py_traceDeltas": {}
          }
        }
      }
    }
  },
  "cells": [
    {
      "cell_type": "code",
      "metadata": {
        "id": "bz_c7AzlLWdw"
      },
      "source": [
        "import pandas as pd\n",
        "import numpy as np\n",
        "import re\n",
        " \n",
        "from tensorflow import keras\n",
        " \n",
        "from tensorflow.keras.models import Sequential \n",
        "from tensorflow.keras.layers import Dense , Dropout, Flatten,BatchNormalization\n",
        "from tensorflow.keras.optimizers import Adam\n",
        " \n",
        "import plotly.graph_objects as go\n",
        "import plotly.express as px\n",
        "\n",
        " \n",
        "from sklearn import preprocessing\n",
        "from sklearn.model_selection import train_test_split\n",
        "from sklearn.metrics import accuracy_score"
      ],
      "execution_count": 1,
      "outputs": []
    },
    {
      "cell_type": "markdown",
      "metadata": {
        "id": "VoF8EEVML8_6"
      },
      "source": [
        "- Данный ноутбук использует API kaggle.\n",
        "- Подробнее об использовании API [на github](https://github.com/Kaggle/kaggle-api)\n",
        "- Данные также можно скачать на [странице конкурса](https://www.kaggle.com/c/titanic/data)"
      ]
    },
    {
      "cell_type": "code",
      "metadata": {
        "id": "wxFmZ7xoMRI4",
        "outputId": "4ceca507-e0a2-419f-f0af-545877ed88d1",
        "colab": {
          "base_uri": "https://localhost:8080/",
          "height": 408
        },
        "tags": []
      },
      "source": [
        "!kaggle competitions list"
      ],
      "execution_count": 3,
      "outputs": [
        {
          "output_type": "stream",
          "name": "stdout",
          "text": "ref                                            deadline             category            reward  teamCount  userHasEntered  \n---------------------------------------------  -------------------  ---------------  ---------  ---------  --------------  \ncontradictory-my-dear-watson                   2030-07-01 23:59:00  Getting Started     Prizes        292           False  \ngan-getting-started                            2030-07-01 23:59:00  Getting Started     Prizes        130           False  \ntpu-getting-started                            2030-06-03 23:59:00  Getting Started  Knowledge        370           False  \ndigit-recognizer                               2030-01-01 00:00:00  Getting Started  Knowledge       2481           False  \ntitanic                                        2030-01-01 00:00:00  Getting Started  Knowledge      18445            True  \nhouse-prices-advanced-regression-techniques    2030-01-01 00:00:00  Getting Started  Knowledge       4855            True  \nconnectx                                       2030-01-01 00:00:00  Getting Started  Knowledge        467           False  \nnlp-getting-started                            2030-01-01 00:00:00  Getting Started  Knowledge       1344           False  \ncompetitive-data-science-predict-future-sales  2020-12-31 23:59:00  Playground           Kudos       8962           False  \nhalite-iv-playground                           2020-12-31 23:59:00  Playground       Knowledge         18           False  \nhashcode-drone-delivery                        2020-12-14 23:59:00  Playground       Knowledge         47           False  \nlish-moa                                       2020-11-30 23:59:00  Research           $30,000       1853           False  \ngoogle-football                                2020-11-30 23:59:00  Featured            $6,000        270           False  \nconways-reverse-game-of-life-2020              2020-11-30 23:59:00  Playground            Swag         85           False  \nlyft-motion-prediction-autonomous-vehicles     2020-11-25 23:59:00  Featured           $30,000        502           False  \nrsna-str-pulmonary-embolism-detection          2020-10-26 23:59:00  Featured           $30,000        257           False  \nosic-pulmonary-fibrosis-progression            2020-10-06 23:59:00  Featured           $55,000       2029           False  \nstanford-covid-vaccine                         2020-10-05 23:59:00  Research           $25,000       1494           False  \nlandmark-recognition-2020                      2020-09-29 23:59:00  Research           $25,000        763           False  \nhalite                                         2020-09-22 23:59:00  Featured              Swag       1139           False  \n"
        }
      ]
    },
    {
      "cell_type": "code",
      "metadata": {
        "id": "qOWbXuOlMXsh",
        "outputId": "f7373879-91f6-4b48-e8ba-3ce7df66bd15",
        "colab": {
          "base_uri": "https://localhost:8080/",
          "height": 85
        },
        "tags": []
      },
      "source": [
        "!kaggle competitions download -c titanic"
      ],
      "execution_count": 4,
      "outputs": [
        {
          "output_type": "stream",
          "name": "stdout",
          "text": "titanic.zip: Skipping, found more recently modified local copy (use --force to force download)\n"
        }
      ]
    },
    {
      "cell_type": "code",
      "metadata": {
        "id": "uYZiHoB7MbnW",
        "outputId": "dcb42db0-9d4f-4d0c-9062-002592d01376",
        "colab": {
          "base_uri": "https://localhost:8080/",
          "height": 51
        },
        "tags": []
      },
      "source": [
        "# Чтение данных\n",
        "train_data = pd.read_csv('train.csv')\n",
        "test_data = pd.read_csv('test.csv')\n",
        "print(train_data.shape)\n",
        "print(test_data.shape)"
      ],
      "execution_count": 5,
      "outputs": [
        {
          "output_type": "stream",
          "name": "stdout",
          "text": "(891, 12)\n(418, 11)\n"
        }
      ]
    },
    {
      "cell_type": "code",
      "metadata": {
        "id": "rh3EZjl5Mg7c",
        "outputId": "07d2a0af-3d58-4e20-a1e3-7e50caf18279",
        "colab": {
          "base_uri": "https://localhost:8080/",
          "height": 359
        }
      },
      "source": [
        "train_data.head(10)"
      ],
      "execution_count": 6,
      "outputs": [
        {
          "output_type": "execute_result",
          "data": {
            "text/plain": "   PassengerId  Survived  Pclass  \\\n0            1         0       3   \n1            2         1       1   \n2            3         1       3   \n3            4         1       1   \n4            5         0       3   \n5            6         0       3   \n6            7         0       1   \n7            8         0       3   \n8            9         1       3   \n9           10         1       2   \n\n                                                Name     Sex   Age  SibSp  \\\n0                            Braund, Mr. Owen Harris    male  22.0      1   \n1  Cumings, Mrs. John Bradley (Florence Briggs Th...  female  38.0      1   \n2                             Heikkinen, Miss. Laina  female  26.0      0   \n3       Futrelle, Mrs. Jacques Heath (Lily May Peel)  female  35.0      1   \n4                           Allen, Mr. William Henry    male  35.0      0   \n5                                   Moran, Mr. James    male   NaN      0   \n6                            McCarthy, Mr. Timothy J    male  54.0      0   \n7                     Palsson, Master. Gosta Leonard    male   2.0      3   \n8  Johnson, Mrs. Oscar W (Elisabeth Vilhelmina Berg)  female  27.0      0   \n9                Nasser, Mrs. Nicholas (Adele Achem)  female  14.0      1   \n\n   Parch            Ticket     Fare Cabin Embarked  \n0      0         A/5 21171   7.2500   NaN        S  \n1      0          PC 17599  71.2833   C85        C  \n2      0  STON/O2. 3101282   7.9250   NaN        S  \n3      0            113803  53.1000  C123        S  \n4      0            373450   8.0500   NaN        S  \n5      0            330877   8.4583   NaN        Q  \n6      0             17463  51.8625   E46        S  \n7      1            349909  21.0750   NaN        S  \n8      2            347742  11.1333   NaN        S  \n9      0            237736  30.0708   NaN        C  ",
            "text/html": "<div>\n<style scoped>\n    .dataframe tbody tr th:only-of-type {\n        vertical-align: middle;\n    }\n\n    .dataframe tbody tr th {\n        vertical-align: top;\n    }\n\n    .dataframe thead th {\n        text-align: right;\n    }\n</style>\n<table border=\"1\" class=\"dataframe\">\n  <thead>\n    <tr style=\"text-align: right;\">\n      <th></th>\n      <th>PassengerId</th>\n      <th>Survived</th>\n      <th>Pclass</th>\n      <th>Name</th>\n      <th>Sex</th>\n      <th>Age</th>\n      <th>SibSp</th>\n      <th>Parch</th>\n      <th>Ticket</th>\n      <th>Fare</th>\n      <th>Cabin</th>\n      <th>Embarked</th>\n    </tr>\n  </thead>\n  <tbody>\n    <tr>\n      <th>0</th>\n      <td>1</td>\n      <td>0</td>\n      <td>3</td>\n      <td>Braund, Mr. Owen Harris</td>\n      <td>male</td>\n      <td>22.0</td>\n      <td>1</td>\n      <td>0</td>\n      <td>A/5 21171</td>\n      <td>7.2500</td>\n      <td>NaN</td>\n      <td>S</td>\n    </tr>\n    <tr>\n      <th>1</th>\n      <td>2</td>\n      <td>1</td>\n      <td>1</td>\n      <td>Cumings, Mrs. John Bradley (Florence Briggs Th...</td>\n      <td>female</td>\n      <td>38.0</td>\n      <td>1</td>\n      <td>0</td>\n      <td>PC 17599</td>\n      <td>71.2833</td>\n      <td>C85</td>\n      <td>C</td>\n    </tr>\n    <tr>\n      <th>2</th>\n      <td>3</td>\n      <td>1</td>\n      <td>3</td>\n      <td>Heikkinen, Miss. Laina</td>\n      <td>female</td>\n      <td>26.0</td>\n      <td>0</td>\n      <td>0</td>\n      <td>STON/O2. 3101282</td>\n      <td>7.9250</td>\n      <td>NaN</td>\n      <td>S</td>\n    </tr>\n    <tr>\n      <th>3</th>\n      <td>4</td>\n      <td>1</td>\n      <td>1</td>\n      <td>Futrelle, Mrs. Jacques Heath (Lily May Peel)</td>\n      <td>female</td>\n      <td>35.0</td>\n      <td>1</td>\n      <td>0</td>\n      <td>113803</td>\n      <td>53.1000</td>\n      <td>C123</td>\n      <td>S</td>\n    </tr>\n    <tr>\n      <th>4</th>\n      <td>5</td>\n      <td>0</td>\n      <td>3</td>\n      <td>Allen, Mr. William Henry</td>\n      <td>male</td>\n      <td>35.0</td>\n      <td>0</td>\n      <td>0</td>\n      <td>373450</td>\n      <td>8.0500</td>\n      <td>NaN</td>\n      <td>S</td>\n    </tr>\n    <tr>\n      <th>5</th>\n      <td>6</td>\n      <td>0</td>\n      <td>3</td>\n      <td>Moran, Mr. James</td>\n      <td>male</td>\n      <td>NaN</td>\n      <td>0</td>\n      <td>0</td>\n      <td>330877</td>\n      <td>8.4583</td>\n      <td>NaN</td>\n      <td>Q</td>\n    </tr>\n    <tr>\n      <th>6</th>\n      <td>7</td>\n      <td>0</td>\n      <td>1</td>\n      <td>McCarthy, Mr. Timothy J</td>\n      <td>male</td>\n      <td>54.0</td>\n      <td>0</td>\n      <td>0</td>\n      <td>17463</td>\n      <td>51.8625</td>\n      <td>E46</td>\n      <td>S</td>\n    </tr>\n    <tr>\n      <th>7</th>\n      <td>8</td>\n      <td>0</td>\n      <td>3</td>\n      <td>Palsson, Master. Gosta Leonard</td>\n      <td>male</td>\n      <td>2.0</td>\n      <td>3</td>\n      <td>1</td>\n      <td>349909</td>\n      <td>21.0750</td>\n      <td>NaN</td>\n      <td>S</td>\n    </tr>\n    <tr>\n      <th>8</th>\n      <td>9</td>\n      <td>1</td>\n      <td>3</td>\n      <td>Johnson, Mrs. Oscar W (Elisabeth Vilhelmina Berg)</td>\n      <td>female</td>\n      <td>27.0</td>\n      <td>0</td>\n      <td>2</td>\n      <td>347742</td>\n      <td>11.1333</td>\n      <td>NaN</td>\n      <td>S</td>\n    </tr>\n    <tr>\n      <th>9</th>\n      <td>10</td>\n      <td>1</td>\n      <td>2</td>\n      <td>Nasser, Mrs. Nicholas (Adele Achem)</td>\n      <td>female</td>\n      <td>14.0</td>\n      <td>1</td>\n      <td>0</td>\n      <td>237736</td>\n      <td>30.0708</td>\n      <td>NaN</td>\n      <td>C</td>\n    </tr>\n  </tbody>\n</table>\n</div>"
          },
          "metadata": {},
          "execution_count": 6
        }
      ]
    },
    {
      "cell_type": "markdown",
      "metadata": {
        "id": "r4stYbLdMqb8"
      },
      "source": [
        "#### Описание полей:\n",
        "- PassengerId - номер пассажира\n",
        "- Survived - 1(выжил),0(утонул)\n",
        "- Pclass - класс, которым путешествовал пассажир (1,2,3)\n",
        "- Name - имя\n",
        "- Sex - male, female\n",
        "- Age - возраст\n",
        "- SibSp - это число братьев, сестер или супругов на борту у этого пассажира\n",
        "- Parch - количество родителей, детей (в том числе приемных) на борту у этого пассажира\n",
        "- Ticket - номер билета\n",
        "- Fare - плата за билет\n",
        "- Cabin - номер каюты\n",
        "- Embarked - порт посадки (C — Шербур; Q — Квинстаун; S — Саутгемптон)"
      ]
    },
    {
      "cell_type": "code",
      "metadata": {
        "id": "SfJYerMuMrq2",
        "outputId": "ca5c55fa-efa8-4edb-8363-305a5aef69fd",
        "colab": {
          "base_uri": "https://localhost:8080/",
          "height": 340
        },
        "tags": []
      },
      "source": [
        "train_data.info()"
      ],
      "execution_count": 7,
      "outputs": [
        {
          "output_type": "stream",
          "name": "stdout",
          "text": "&lt;class &#39;pandas.core.frame.DataFrame&#39;&gt;\nRangeIndex: 891 entries, 0 to 890\nData columns (total 12 columns):\n #   Column       Non-Null Count  Dtype  \n---  ------       --------------  -----  \n 0   PassengerId  891 non-null    int64  \n 1   Survived     891 non-null    int64  \n 2   Pclass       891 non-null    int64  \n 3   Name         891 non-null    object \n 4   Sex          891 non-null    object \n 5   Age          714 non-null    float64\n 6   SibSp        891 non-null    int64  \n 7   Parch        891 non-null    int64  \n 8   Ticket       891 non-null    object \n 9   Fare         891 non-null    float64\n 10  Cabin        204 non-null    object \n 11  Embarked     889 non-null    object \ndtypes: float64(2), int64(5), object(5)\nmemory usage: 83.7+ KB\n"
        }
      ]
    },
    {
      "cell_type": "code",
      "metadata": {
        "id": "6QcbRuF5Mv6Y",
        "outputId": "4f20e37c-edbf-4c12-8d1e-9fe53782613b",
        "colab": {
          "base_uri": "https://localhost:8080/",
          "height": 323
        },
        "tags": []
      },
      "source": [
        "test_data.info()"
      ],
      "execution_count": 8,
      "outputs": [
        {
          "output_type": "stream",
          "name": "stdout",
          "text": "&lt;class &#39;pandas.core.frame.DataFrame&#39;&gt;\nRangeIndex: 418 entries, 0 to 417\nData columns (total 11 columns):\n #   Column       Non-Null Count  Dtype  \n---  ------       --------------  -----  \n 0   PassengerId  418 non-null    int64  \n 1   Pclass       418 non-null    int64  \n 2   Name         418 non-null    object \n 3   Sex          418 non-null    object \n 4   Age          332 non-null    float64\n 5   SibSp        418 non-null    int64  \n 6   Parch        418 non-null    int64  \n 7   Ticket       418 non-null    object \n 8   Fare         417 non-null    float64\n 9   Cabin        91 non-null     object \n 10  Embarked     418 non-null    object \ndtypes: float64(2), int64(4), object(5)\nmemory usage: 36.0+ KB\n"
        }
      ]
    },
    {
      "cell_type": "code",
      "metadata": {
        "id": "jEl6l6QDM1o7",
        "outputId": "d16659d3-dd20-43c5-eceb-729ad6116dbf",
        "colab": {
          "base_uri": "https://localhost:8080/",
          "height": 51
        },
        "tags": []
      },
      "source": [
        "# Считывание целевой переменной в отдельный массив\n",
        "len_train_data = len(train_data)\n",
        "y_train = train_data['Survived'].values # целевая переменная\n",
        "print(len(y_train))\n",
        "print(y_train[:10])"
      ],
      "execution_count": 9,
      "outputs": [
        {
          "output_type": "stream",
          "name": "stdout",
          "text": "891\n[0 1 1 1 0 0 0 0 1 1]\n"
        }
      ]
    },
    {
      "cell_type": "code",
      "metadata": {
        "id": "gBBNV6N2M3qg",
        "outputId": "15d64622-5875-4b31-b638-7a629ff1a650",
        "colab": {
          "base_uri": "https://localhost:8080/",
          "height": 235
        }
      },
      "source": [
        "# Переиндексируем данные и удаляем некоторые столбцы\n",
        "train_data.index = train_data.PassengerId\n",
        "del train_data['PassengerId']\n",
        "del train_data['Survived']\n",
        "\n",
        "test_data.index = test_data.PassengerId\n",
        "del test_data['PassengerId']\n",
        "\n",
        "train_data.head()"
      ],
      "execution_count": 10,
      "outputs": [
        {
          "output_type": "execute_result",
          "data": {
            "text/plain": "             Pclass                                               Name  \\\nPassengerId                                                              \n1                 3                            Braund, Mr. Owen Harris   \n2                 1  Cumings, Mrs. John Bradley (Florence Briggs Th...   \n3                 3                             Heikkinen, Miss. Laina   \n4                 1       Futrelle, Mrs. Jacques Heath (Lily May Peel)   \n5                 3                           Allen, Mr. William Henry   \n\n                Sex   Age  SibSp  Parch            Ticket     Fare Cabin  \\\nPassengerId                                                                \n1              male  22.0      1      0         A/5 21171   7.2500   NaN   \n2            female  38.0      1      0          PC 17599  71.2833   C85   \n3            female  26.0      0      0  STON/O2. 3101282   7.9250   NaN   \n4            female  35.0      1      0            113803  53.1000  C123   \n5              male  35.0      0      0            373450   8.0500   NaN   \n\n            Embarked  \nPassengerId           \n1                  S  \n2                  C  \n3                  S  \n4                  S  \n5                  S  ",
            "text/html": "<div>\n<style scoped>\n    .dataframe tbody tr th:only-of-type {\n        vertical-align: middle;\n    }\n\n    .dataframe tbody tr th {\n        vertical-align: top;\n    }\n\n    .dataframe thead th {\n        text-align: right;\n    }\n</style>\n<table border=\"1\" class=\"dataframe\">\n  <thead>\n    <tr style=\"text-align: right;\">\n      <th></th>\n      <th>Pclass</th>\n      <th>Name</th>\n      <th>Sex</th>\n      <th>Age</th>\n      <th>SibSp</th>\n      <th>Parch</th>\n      <th>Ticket</th>\n      <th>Fare</th>\n      <th>Cabin</th>\n      <th>Embarked</th>\n    </tr>\n    <tr>\n      <th>PassengerId</th>\n      <th></th>\n      <th></th>\n      <th></th>\n      <th></th>\n      <th></th>\n      <th></th>\n      <th></th>\n      <th></th>\n      <th></th>\n      <th></th>\n    </tr>\n  </thead>\n  <tbody>\n    <tr>\n      <th>1</th>\n      <td>3</td>\n      <td>Braund, Mr. Owen Harris</td>\n      <td>male</td>\n      <td>22.0</td>\n      <td>1</td>\n      <td>0</td>\n      <td>A/5 21171</td>\n      <td>7.2500</td>\n      <td>NaN</td>\n      <td>S</td>\n    </tr>\n    <tr>\n      <th>2</th>\n      <td>1</td>\n      <td>Cumings, Mrs. John Bradley (Florence Briggs Th...</td>\n      <td>female</td>\n      <td>38.0</td>\n      <td>1</td>\n      <td>0</td>\n      <td>PC 17599</td>\n      <td>71.2833</td>\n      <td>C85</td>\n      <td>C</td>\n    </tr>\n    <tr>\n      <th>3</th>\n      <td>3</td>\n      <td>Heikkinen, Miss. Laina</td>\n      <td>female</td>\n      <td>26.0</td>\n      <td>0</td>\n      <td>0</td>\n      <td>STON/O2. 3101282</td>\n      <td>7.9250</td>\n      <td>NaN</td>\n      <td>S</td>\n    </tr>\n    <tr>\n      <th>4</th>\n      <td>1</td>\n      <td>Futrelle, Mrs. Jacques Heath (Lily May Peel)</td>\n      <td>female</td>\n      <td>35.0</td>\n      <td>1</td>\n      <td>0</td>\n      <td>113803</td>\n      <td>53.1000</td>\n      <td>C123</td>\n      <td>S</td>\n    </tr>\n    <tr>\n      <th>5</th>\n      <td>3</td>\n      <td>Allen, Mr. William Henry</td>\n      <td>male</td>\n      <td>35.0</td>\n      <td>0</td>\n      <td>0</td>\n      <td>373450</td>\n      <td>8.0500</td>\n      <td>NaN</td>\n      <td>S</td>\n    </tr>\n  </tbody>\n</table>\n</div>"
          },
          "metadata": {},
          "execution_count": 10
        }
      ]
    },
    {
      "cell_type": "code",
      "metadata": {
        "id": "tBQxsw71M-UG",
        "outputId": "c7cba766-cf81-4e81-85e7-bc6f1bb5b653",
        "colab": {
          "base_uri": "https://localhost:8080/",
          "height": 235
        }
      },
      "source": [
        "test_data.head()"
      ],
      "execution_count": 11,
      "outputs": [
        {
          "output_type": "execute_result",
          "data": {
            "text/plain": "             Pclass                                          Name     Sex  \\\nPassengerId                                                                 \n892               3                              Kelly, Mr. James    male   \n893               3              Wilkes, Mrs. James (Ellen Needs)  female   \n894               2                     Myles, Mr. Thomas Francis    male   \n895               3                              Wirz, Mr. Albert    male   \n896               3  Hirvonen, Mrs. Alexander (Helga E Lindqvist)  female   \n\n              Age  SibSp  Parch   Ticket     Fare Cabin Embarked  \nPassengerId                                                       \n892          34.5      0      0   330911   7.8292   NaN        Q  \n893          47.0      1      0   363272   7.0000   NaN        S  \n894          62.0      0      0   240276   9.6875   NaN        Q  \n895          27.0      0      0   315154   8.6625   NaN        S  \n896          22.0      1      1  3101298  12.2875   NaN        S  ",
            "text/html": "<div>\n<style scoped>\n    .dataframe tbody tr th:only-of-type {\n        vertical-align: middle;\n    }\n\n    .dataframe tbody tr th {\n        vertical-align: top;\n    }\n\n    .dataframe thead th {\n        text-align: right;\n    }\n</style>\n<table border=\"1\" class=\"dataframe\">\n  <thead>\n    <tr style=\"text-align: right;\">\n      <th></th>\n      <th>Pclass</th>\n      <th>Name</th>\n      <th>Sex</th>\n      <th>Age</th>\n      <th>SibSp</th>\n      <th>Parch</th>\n      <th>Ticket</th>\n      <th>Fare</th>\n      <th>Cabin</th>\n      <th>Embarked</th>\n    </tr>\n    <tr>\n      <th>PassengerId</th>\n      <th></th>\n      <th></th>\n      <th></th>\n      <th></th>\n      <th></th>\n      <th></th>\n      <th></th>\n      <th></th>\n      <th></th>\n      <th></th>\n    </tr>\n  </thead>\n  <tbody>\n    <tr>\n      <th>892</th>\n      <td>3</td>\n      <td>Kelly, Mr. James</td>\n      <td>male</td>\n      <td>34.5</td>\n      <td>0</td>\n      <td>0</td>\n      <td>330911</td>\n      <td>7.8292</td>\n      <td>NaN</td>\n      <td>Q</td>\n    </tr>\n    <tr>\n      <th>893</th>\n      <td>3</td>\n      <td>Wilkes, Mrs. James (Ellen Needs)</td>\n      <td>female</td>\n      <td>47.0</td>\n      <td>1</td>\n      <td>0</td>\n      <td>363272</td>\n      <td>7.0000</td>\n      <td>NaN</td>\n      <td>S</td>\n    </tr>\n    <tr>\n      <th>894</th>\n      <td>2</td>\n      <td>Myles, Mr. Thomas Francis</td>\n      <td>male</td>\n      <td>62.0</td>\n      <td>0</td>\n      <td>0</td>\n      <td>240276</td>\n      <td>9.6875</td>\n      <td>NaN</td>\n      <td>Q</td>\n    </tr>\n    <tr>\n      <th>895</th>\n      <td>3</td>\n      <td>Wirz, Mr. Albert</td>\n      <td>male</td>\n      <td>27.0</td>\n      <td>0</td>\n      <td>0</td>\n      <td>315154</td>\n      <td>8.6625</td>\n      <td>NaN</td>\n      <td>S</td>\n    </tr>\n    <tr>\n      <th>896</th>\n      <td>3</td>\n      <td>Hirvonen, Mrs. Alexander (Helga E Lindqvist)</td>\n      <td>female</td>\n      <td>22.0</td>\n      <td>1</td>\n      <td>1</td>\n      <td>3101298</td>\n      <td>12.2875</td>\n      <td>NaN</td>\n      <td>S</td>\n    </tr>\n  </tbody>\n</table>\n</div>"
          },
          "metadata": {},
          "execution_count": 11
        }
      ]
    },
    {
      "cell_type": "code",
      "metadata": {
        "id": "RkZqctVoNBvF",
        "outputId": "a19226cd-c819-4cb7-b194-ea811f269816",
        "colab": {
          "base_uri": "https://localhost:8080/",
          "height": 252
        },
        "tags": []
      },
      "source": [
        "# Сливаем данные в один датасет для обработки\n",
        "all_data = pd.concat([train_data, test_data])\n",
        "all_data.drop(['Ticket','Cabin'], axis = 1,inplace=True)\n",
        "print('Размер полученных данных:', all_data.shape)\n",
        "all_data.head()"
      ],
      "execution_count": 12,
      "outputs": [
        {
          "output_type": "stream",
          "name": "stdout",
          "text": "Размер полученных данных: (1309, 8)\n"
        },
        {
          "output_type": "execute_result",
          "data": {
            "text/plain": "             Pclass                                               Name  \\\nPassengerId                                                              \n1                 3                            Braund, Mr. Owen Harris   \n2                 1  Cumings, Mrs. John Bradley (Florence Briggs Th...   \n3                 3                             Heikkinen, Miss. Laina   \n4                 1       Futrelle, Mrs. Jacques Heath (Lily May Peel)   \n5                 3                           Allen, Mr. William Henry   \n\n                Sex   Age  SibSp  Parch     Fare Embarked  \nPassengerId                                                \n1              male  22.0      1      0   7.2500        S  \n2            female  38.0      1      0  71.2833        C  \n3            female  26.0      0      0   7.9250        S  \n4            female  35.0      1      0  53.1000        S  \n5              male  35.0      0      0   8.0500        S  ",
            "text/html": "<div>\n<style scoped>\n    .dataframe tbody tr th:only-of-type {\n        vertical-align: middle;\n    }\n\n    .dataframe tbody tr th {\n        vertical-align: top;\n    }\n\n    .dataframe thead th {\n        text-align: right;\n    }\n</style>\n<table border=\"1\" class=\"dataframe\">\n  <thead>\n    <tr style=\"text-align: right;\">\n      <th></th>\n      <th>Pclass</th>\n      <th>Name</th>\n      <th>Sex</th>\n      <th>Age</th>\n      <th>SibSp</th>\n      <th>Parch</th>\n      <th>Fare</th>\n      <th>Embarked</th>\n    </tr>\n    <tr>\n      <th>PassengerId</th>\n      <th></th>\n      <th></th>\n      <th></th>\n      <th></th>\n      <th></th>\n      <th></th>\n      <th></th>\n      <th></th>\n    </tr>\n  </thead>\n  <tbody>\n    <tr>\n      <th>1</th>\n      <td>3</td>\n      <td>Braund, Mr. Owen Harris</td>\n      <td>male</td>\n      <td>22.0</td>\n      <td>1</td>\n      <td>0</td>\n      <td>7.2500</td>\n      <td>S</td>\n    </tr>\n    <tr>\n      <th>2</th>\n      <td>1</td>\n      <td>Cumings, Mrs. John Bradley (Florence Briggs Th...</td>\n      <td>female</td>\n      <td>38.0</td>\n      <td>1</td>\n      <td>0</td>\n      <td>71.2833</td>\n      <td>C</td>\n    </tr>\n    <tr>\n      <th>3</th>\n      <td>3</td>\n      <td>Heikkinen, Miss. Laina</td>\n      <td>female</td>\n      <td>26.0</td>\n      <td>0</td>\n      <td>0</td>\n      <td>7.9250</td>\n      <td>S</td>\n    </tr>\n    <tr>\n      <th>4</th>\n      <td>1</td>\n      <td>Futrelle, Mrs. Jacques Heath (Lily May Peel)</td>\n      <td>female</td>\n      <td>35.0</td>\n      <td>1</td>\n      <td>0</td>\n      <td>53.1000</td>\n      <td>S</td>\n    </tr>\n    <tr>\n      <th>5</th>\n      <td>3</td>\n      <td>Allen, Mr. William Henry</td>\n      <td>male</td>\n      <td>35.0</td>\n      <td>0</td>\n      <td>0</td>\n      <td>8.0500</td>\n      <td>S</td>\n    </tr>\n  </tbody>\n</table>\n</div>"
          },
          "metadata": {},
          "execution_count": 12
        }
      ]
    },
    {
      "cell_type": "markdown",
      "metadata": {
        "id": "H6BD3ExYNJoJ"
      },
      "source": [
        "### Поиск признаков"
      ]
    },
    {
      "cell_type": "code",
      "metadata": {
        "id": "oENfHCuiNL9-"
      },
      "source": [
        "\n",
        "# Размер семьи\n",
        "all_data['FamilySize'] = all_data['SibSp'] + all_data['Parch'] + 1\n",
        "\n",
        "# Признак одинокого плавания\n",
        "all_data['Is_alone'] = all_data[\"FamilySize\"].apply(lambda x: 0 if x > 1 else 1)"
      ],
      "execution_count": 13,
      "outputs": []
    },
    {
      "cell_type": "code",
      "metadata": {
        "id": "-NtxSLI4NQhD",
        "outputId": "d37aa65a-28a3-4795-f30a-9b0e396fa16e",
        "colab": {
          "base_uri": "https://localhost:8080/",
          "height": 235
        }
      },
      "source": [
        "all_data.head()"
      ],
      "execution_count": 14,
      "outputs": [
        {
          "output_type": "execute_result",
          "data": {
            "text/plain": "             Pclass                                               Name  \\\nPassengerId                                                              \n1                 3                            Braund, Mr. Owen Harris   \n2                 1  Cumings, Mrs. John Bradley (Florence Briggs Th...   \n3                 3                             Heikkinen, Miss. Laina   \n4                 1       Futrelle, Mrs. Jacques Heath (Lily May Peel)   \n5                 3                           Allen, Mr. William Henry   \n\n                Sex   Age  SibSp  Parch     Fare Embarked  FamilySize  \\\nPassengerId                                                             \n1              male  22.0      1      0   7.2500        S           2   \n2            female  38.0      1      0  71.2833        C           2   \n3            female  26.0      0      0   7.9250        S           1   \n4            female  35.0      1      0  53.1000        S           2   \n5              male  35.0      0      0   8.0500        S           1   \n\n             Is_alone  \nPassengerId            \n1                   0  \n2                   0  \n3                   1  \n4                   0  \n5                   1  ",
            "text/html": "<div>\n<style scoped>\n    .dataframe tbody tr th:only-of-type {\n        vertical-align: middle;\n    }\n\n    .dataframe tbody tr th {\n        vertical-align: top;\n    }\n\n    .dataframe thead th {\n        text-align: right;\n    }\n</style>\n<table border=\"1\" class=\"dataframe\">\n  <thead>\n    <tr style=\"text-align: right;\">\n      <th></th>\n      <th>Pclass</th>\n      <th>Name</th>\n      <th>Sex</th>\n      <th>Age</th>\n      <th>SibSp</th>\n      <th>Parch</th>\n      <th>Fare</th>\n      <th>Embarked</th>\n      <th>FamilySize</th>\n      <th>Is_alone</th>\n    </tr>\n    <tr>\n      <th>PassengerId</th>\n      <th></th>\n      <th></th>\n      <th></th>\n      <th></th>\n      <th></th>\n      <th></th>\n      <th></th>\n      <th></th>\n      <th></th>\n      <th></th>\n    </tr>\n  </thead>\n  <tbody>\n    <tr>\n      <th>1</th>\n      <td>3</td>\n      <td>Braund, Mr. Owen Harris</td>\n      <td>male</td>\n      <td>22.0</td>\n      <td>1</td>\n      <td>0</td>\n      <td>7.2500</td>\n      <td>S</td>\n      <td>2</td>\n      <td>0</td>\n    </tr>\n    <tr>\n      <th>2</th>\n      <td>1</td>\n      <td>Cumings, Mrs. John Bradley (Florence Briggs Th...</td>\n      <td>female</td>\n      <td>38.0</td>\n      <td>1</td>\n      <td>0</td>\n      <td>71.2833</td>\n      <td>C</td>\n      <td>2</td>\n      <td>0</td>\n    </tr>\n    <tr>\n      <th>3</th>\n      <td>3</td>\n      <td>Heikkinen, Miss. Laina</td>\n      <td>female</td>\n      <td>26.0</td>\n      <td>0</td>\n      <td>0</td>\n      <td>7.9250</td>\n      <td>S</td>\n      <td>1</td>\n      <td>1</td>\n    </tr>\n    <tr>\n      <th>4</th>\n      <td>1</td>\n      <td>Futrelle, Mrs. Jacques Heath (Lily May Peel)</td>\n      <td>female</td>\n      <td>35.0</td>\n      <td>1</td>\n      <td>0</td>\n      <td>53.1000</td>\n      <td>S</td>\n      <td>2</td>\n      <td>0</td>\n    </tr>\n    <tr>\n      <th>5</th>\n      <td>3</td>\n      <td>Allen, Mr. William Henry</td>\n      <td>male</td>\n      <td>35.0</td>\n      <td>0</td>\n      <td>0</td>\n      <td>8.0500</td>\n      <td>S</td>\n      <td>1</td>\n      <td>1</td>\n    </tr>\n  </tbody>\n</table>\n</div>"
          },
          "metadata": {},
          "execution_count": 14
        }
      ]
    },
    {
      "cell_type": "code",
      "metadata": {
        "id": "0mqoOmIkNTq6",
        "outputId": "d9c1f610-26f2-4172-df3c-376399b5ae50",
        "colab": {
          "base_uri": "https://localhost:8080/",
          "height": 235
        }
      },
      "source": [
        "# Использование регулярных выражений для поиска сокращений нейтральных обращений\n",
        "\n",
        "def get_title(name):\n",
        "    title_search = re.search(' ([A-Za-z]+)\\.', name)\n",
        "    if title_search:\n",
        "        return title_search.group(1)\n",
        "    return \"\"\n",
        "\n",
        "# Применение к столбцу Name\n",
        "all_data['Title'] = all_data['Name'].apply(get_title)\n",
        "all_data.head()"
      ],
      "execution_count": 15,
      "outputs": [
        {
          "output_type": "execute_result",
          "data": {
            "text/plain": "             Pclass                                               Name  \\\nPassengerId                                                              \n1                 3                            Braund, Mr. Owen Harris   \n2                 1  Cumings, Mrs. John Bradley (Florence Briggs Th...   \n3                 3                             Heikkinen, Miss. Laina   \n4                 1       Futrelle, Mrs. Jacques Heath (Lily May Peel)   \n5                 3                           Allen, Mr. William Henry   \n\n                Sex   Age  SibSp  Parch     Fare Embarked  FamilySize  \\\nPassengerId                                                             \n1              male  22.0      1      0   7.2500        S           2   \n2            female  38.0      1      0  71.2833        C           2   \n3            female  26.0      0      0   7.9250        S           1   \n4            female  35.0      1      0  53.1000        S           2   \n5              male  35.0      0      0   8.0500        S           1   \n\n             Is_alone Title  \nPassengerId                  \n1                   0    Mr  \n2                   0   Mrs  \n3                   1  Miss  \n4                   0   Mrs  \n5                   1    Mr  ",
            "text/html": "<div>\n<style scoped>\n    .dataframe tbody tr th:only-of-type {\n        vertical-align: middle;\n    }\n\n    .dataframe tbody tr th {\n        vertical-align: top;\n    }\n\n    .dataframe thead th {\n        text-align: right;\n    }\n</style>\n<table border=\"1\" class=\"dataframe\">\n  <thead>\n    <tr style=\"text-align: right;\">\n      <th></th>\n      <th>Pclass</th>\n      <th>Name</th>\n      <th>Sex</th>\n      <th>Age</th>\n      <th>SibSp</th>\n      <th>Parch</th>\n      <th>Fare</th>\n      <th>Embarked</th>\n      <th>FamilySize</th>\n      <th>Is_alone</th>\n      <th>Title</th>\n    </tr>\n    <tr>\n      <th>PassengerId</th>\n      <th></th>\n      <th></th>\n      <th></th>\n      <th></th>\n      <th></th>\n      <th></th>\n      <th></th>\n      <th></th>\n      <th></th>\n      <th></th>\n      <th></th>\n    </tr>\n  </thead>\n  <tbody>\n    <tr>\n      <th>1</th>\n      <td>3</td>\n      <td>Braund, Mr. Owen Harris</td>\n      <td>male</td>\n      <td>22.0</td>\n      <td>1</td>\n      <td>0</td>\n      <td>7.2500</td>\n      <td>S</td>\n      <td>2</td>\n      <td>0</td>\n      <td>Mr</td>\n    </tr>\n    <tr>\n      <th>2</th>\n      <td>1</td>\n      <td>Cumings, Mrs. John Bradley (Florence Briggs Th...</td>\n      <td>female</td>\n      <td>38.0</td>\n      <td>1</td>\n      <td>0</td>\n      <td>71.2833</td>\n      <td>C</td>\n      <td>2</td>\n      <td>0</td>\n      <td>Mrs</td>\n    </tr>\n    <tr>\n      <th>3</th>\n      <td>3</td>\n      <td>Heikkinen, Miss. Laina</td>\n      <td>female</td>\n      <td>26.0</td>\n      <td>0</td>\n      <td>0</td>\n      <td>7.9250</td>\n      <td>S</td>\n      <td>1</td>\n      <td>1</td>\n      <td>Miss</td>\n    </tr>\n    <tr>\n      <th>4</th>\n      <td>1</td>\n      <td>Futrelle, Mrs. Jacques Heath (Lily May Peel)</td>\n      <td>female</td>\n      <td>35.0</td>\n      <td>1</td>\n      <td>0</td>\n      <td>53.1000</td>\n      <td>S</td>\n      <td>2</td>\n      <td>0</td>\n      <td>Mrs</td>\n    </tr>\n    <tr>\n      <th>5</th>\n      <td>3</td>\n      <td>Allen, Mr. William Henry</td>\n      <td>male</td>\n      <td>35.0</td>\n      <td>0</td>\n      <td>0</td>\n      <td>8.0500</td>\n      <td>S</td>\n      <td>1</td>\n      <td>1</td>\n      <td>Mr</td>\n    </tr>\n  </tbody>\n</table>\n</div>"
          },
          "metadata": {},
          "execution_count": 15
        }
      ]
    },
    {
      "cell_type": "code",
      "metadata": {
        "id": "-8VZvd_CNY5P",
        "outputId": "0185c0a6-30b7-4610-cad9-7d6491f4687a",
        "colab": {
          "base_uri": "https://localhost:8080/",
          "height": 340
        }
      },
      "source": [
        "# Просмотр результатов предобработки\n",
        "all_data['Title'].value_counts()"
      ],
      "execution_count": 16,
      "outputs": [
        {
          "output_type": "execute_result",
          "data": {
            "text/plain": "Mr          757\nMiss        260\nMrs         197\nMaster       61\nDr            8\nRev           8\nCol           4\nMs            2\nMlle          2\nMajor         2\nDona          1\nJonkheer      1\nCapt          1\nDon           1\nMme           1\nSir           1\nCountess      1\nLady          1\nName: Title, dtype: int64"
          },
          "metadata": {},
          "execution_count": 16
        }
      ]
    },
    {
      "cell_type": "code",
      "metadata": {
        "id": "JO_9iVlqNcCK"
      },
      "source": [
        "# Исправление опечаток и группировака редких обращений\n",
        "all_data['Title'] = all_data['Title'].replace(['Lady', 'Countess','Capt', 'Col','Don', 'Dr', 'Major', 'Rev', 'Sir', 'Jonkheer', 'Dona'], 'Rare')\n",
        "all_data['Title'] = all_data['Title'].replace('Mlle', 'Miss')\n",
        "all_data['Title'] = all_data['Title'].replace('Ms', 'Miss')\n",
        "all_data['Title'] = all_data['Title'].replace('Mme', 'Mrs')"
      ],
      "execution_count": 17,
      "outputs": []
    },
    {
      "cell_type": "code",
      "metadata": {
        "id": "6bl6DQ7WNe59",
        "outputId": "f5044375-3400-4005-fdad-e608466e8908",
        "colab": {
          "base_uri": "https://localhost:8080/",
          "height": 235
        }
      },
      "source": [
        "all_data.head()"
      ],
      "execution_count": 18,
      "outputs": [
        {
          "output_type": "execute_result",
          "data": {
            "text/plain": "             Pclass                                               Name  \\\nPassengerId                                                              \n1                 3                            Braund, Mr. Owen Harris   \n2                 1  Cumings, Mrs. John Bradley (Florence Briggs Th...   \n3                 3                             Heikkinen, Miss. Laina   \n4                 1       Futrelle, Mrs. Jacques Heath (Lily May Peel)   \n5                 3                           Allen, Mr. William Henry   \n\n                Sex   Age  SibSp  Parch     Fare Embarked  FamilySize  \\\nPassengerId                                                             \n1              male  22.0      1      0   7.2500        S           2   \n2            female  38.0      1      0  71.2833        C           2   \n3            female  26.0      0      0   7.9250        S           1   \n4            female  35.0      1      0  53.1000        S           2   \n5              male  35.0      0      0   8.0500        S           1   \n\n             Is_alone Title  \nPassengerId                  \n1                   0    Mr  \n2                   0   Mrs  \n3                   1  Miss  \n4                   0   Mrs  \n5                   1    Mr  ",
            "text/html": "<div>\n<style scoped>\n    .dataframe tbody tr th:only-of-type {\n        vertical-align: middle;\n    }\n\n    .dataframe tbody tr th {\n        vertical-align: top;\n    }\n\n    .dataframe thead th {\n        text-align: right;\n    }\n</style>\n<table border=\"1\" class=\"dataframe\">\n  <thead>\n    <tr style=\"text-align: right;\">\n      <th></th>\n      <th>Pclass</th>\n      <th>Name</th>\n      <th>Sex</th>\n      <th>Age</th>\n      <th>SibSp</th>\n      <th>Parch</th>\n      <th>Fare</th>\n      <th>Embarked</th>\n      <th>FamilySize</th>\n      <th>Is_alone</th>\n      <th>Title</th>\n    </tr>\n    <tr>\n      <th>PassengerId</th>\n      <th></th>\n      <th></th>\n      <th></th>\n      <th></th>\n      <th></th>\n      <th></th>\n      <th></th>\n      <th></th>\n      <th></th>\n      <th></th>\n      <th></th>\n    </tr>\n  </thead>\n  <tbody>\n    <tr>\n      <th>1</th>\n      <td>3</td>\n      <td>Braund, Mr. Owen Harris</td>\n      <td>male</td>\n      <td>22.0</td>\n      <td>1</td>\n      <td>0</td>\n      <td>7.2500</td>\n      <td>S</td>\n      <td>2</td>\n      <td>0</td>\n      <td>Mr</td>\n    </tr>\n    <tr>\n      <th>2</th>\n      <td>1</td>\n      <td>Cumings, Mrs. John Bradley (Florence Briggs Th...</td>\n      <td>female</td>\n      <td>38.0</td>\n      <td>1</td>\n      <td>0</td>\n      <td>71.2833</td>\n      <td>C</td>\n      <td>2</td>\n      <td>0</td>\n      <td>Mrs</td>\n    </tr>\n    <tr>\n      <th>3</th>\n      <td>3</td>\n      <td>Heikkinen, Miss. Laina</td>\n      <td>female</td>\n      <td>26.0</td>\n      <td>0</td>\n      <td>0</td>\n      <td>7.9250</td>\n      <td>S</td>\n      <td>1</td>\n      <td>1</td>\n      <td>Miss</td>\n    </tr>\n    <tr>\n      <th>4</th>\n      <td>1</td>\n      <td>Futrelle, Mrs. Jacques Heath (Lily May Peel)</td>\n      <td>female</td>\n      <td>35.0</td>\n      <td>1</td>\n      <td>0</td>\n      <td>53.1000</td>\n      <td>S</td>\n      <td>2</td>\n      <td>0</td>\n      <td>Mrs</td>\n    </tr>\n    <tr>\n      <th>5</th>\n      <td>3</td>\n      <td>Allen, Mr. William Henry</td>\n      <td>male</td>\n      <td>35.0</td>\n      <td>0</td>\n      <td>0</td>\n      <td>8.0500</td>\n      <td>S</td>\n      <td>1</td>\n      <td>1</td>\n      <td>Mr</td>\n    </tr>\n  </tbody>\n</table>\n</div>"
          },
          "metadata": {},
          "execution_count": 18
        }
      ]
    },
    {
      "cell_type": "code",
      "metadata": {
        "id": "OqqJHjZqNh24"
      },
      "source": [
        "# Очистка данных от обработанных столбцов\n",
        "all_data.drop(['Parch','SibSp','Name'], axis = 1,inplace=True)"
      ],
      "execution_count": 19,
      "outputs": []
    },
    {
      "cell_type": "code",
      "metadata": {
        "id": "-AHu7Xb-NjpQ",
        "outputId": "355bcd3a-11dd-4dd9-9c54-25cb51f513a1",
        "colab": {
          "base_uri": "https://localhost:8080/",
          "height": 235
        }
      },
      "source": [
        "all_data.head()"
      ],
      "execution_count": 20,
      "outputs": [
        {
          "output_type": "execute_result",
          "data": {
            "text/plain": "             Pclass     Sex   Age     Fare Embarked  FamilySize  Is_alone  \\\nPassengerId                                                                 \n1                 3    male  22.0   7.2500        S           2         0   \n2                 1  female  38.0  71.2833        C           2         0   \n3                 3  female  26.0   7.9250        S           1         1   \n4                 1  female  35.0  53.1000        S           2         0   \n5                 3    male  35.0   8.0500        S           1         1   \n\n            Title  \nPassengerId        \n1              Mr  \n2             Mrs  \n3            Miss  \n4             Mrs  \n5              Mr  ",
            "text/html": "<div>\n<style scoped>\n    .dataframe tbody tr th:only-of-type {\n        vertical-align: middle;\n    }\n\n    .dataframe tbody tr th {\n        vertical-align: top;\n    }\n\n    .dataframe thead th {\n        text-align: right;\n    }\n</style>\n<table border=\"1\" class=\"dataframe\">\n  <thead>\n    <tr style=\"text-align: right;\">\n      <th></th>\n      <th>Pclass</th>\n      <th>Sex</th>\n      <th>Age</th>\n      <th>Fare</th>\n      <th>Embarked</th>\n      <th>FamilySize</th>\n      <th>Is_alone</th>\n      <th>Title</th>\n    </tr>\n    <tr>\n      <th>PassengerId</th>\n      <th></th>\n      <th></th>\n      <th></th>\n      <th></th>\n      <th></th>\n      <th></th>\n      <th></th>\n      <th></th>\n    </tr>\n  </thead>\n  <tbody>\n    <tr>\n      <th>1</th>\n      <td>3</td>\n      <td>male</td>\n      <td>22.0</td>\n      <td>7.2500</td>\n      <td>S</td>\n      <td>2</td>\n      <td>0</td>\n      <td>Mr</td>\n    </tr>\n    <tr>\n      <th>2</th>\n      <td>1</td>\n      <td>female</td>\n      <td>38.0</td>\n      <td>71.2833</td>\n      <td>C</td>\n      <td>2</td>\n      <td>0</td>\n      <td>Mrs</td>\n    </tr>\n    <tr>\n      <th>3</th>\n      <td>3</td>\n      <td>female</td>\n      <td>26.0</td>\n      <td>7.9250</td>\n      <td>S</td>\n      <td>1</td>\n      <td>1</td>\n      <td>Miss</td>\n    </tr>\n    <tr>\n      <th>4</th>\n      <td>1</td>\n      <td>female</td>\n      <td>35.0</td>\n      <td>53.1000</td>\n      <td>S</td>\n      <td>2</td>\n      <td>0</td>\n      <td>Mrs</td>\n    </tr>\n    <tr>\n      <th>5</th>\n      <td>3</td>\n      <td>male</td>\n      <td>35.0</td>\n      <td>8.0500</td>\n      <td>S</td>\n      <td>1</td>\n      <td>1</td>\n      <td>Mr</td>\n    </tr>\n  </tbody>\n</table>\n</div>"
          },
          "metadata": {},
          "execution_count": 20
        }
      ]
    },
    {
      "cell_type": "code",
      "metadata": {
        "id": "kU26oW0gNmK9",
        "outputId": "7a3b6be8-e511-434e-f90a-7d3b6fb42de3",
        "colab": {
          "base_uri": "https://localhost:8080/",
          "height": 34
        }
      },
      "source": [
        "all_data['FamilySize'].unique()"
      ],
      "execution_count": 21,
      "outputs": [
        {
          "output_type": "execute_result",
          "data": {
            "text/plain": "array([ 2,  1,  5,  3,  7,  6,  4,  8, 11], dtype=int64)"
          },
          "metadata": {},
          "execution_count": 21
        }
      ]
    },
    {
      "cell_type": "code",
      "metadata": {
        "id": "5Bh7Qp8xNo9q",
        "outputId": "e11c579a-6f4c-4b02-f6a8-17c34bb4bb4e",
        "colab": {
          "base_uri": "https://localhost:8080/",
          "height": 34
        }
      },
      "source": [
        "all_data['Title'].unique()"
      ],
      "execution_count": 22,
      "outputs": [
        {
          "output_type": "execute_result",
          "data": {
            "text/plain": "array([&#39;Mr&#39;, &#39;Mrs&#39;, &#39;Miss&#39;, &#39;Master&#39;, &#39;Rare&#39;], dtype=object)"
          },
          "metadata": {},
          "execution_count": 22
        }
      ]
    },
    {
      "cell_type": "code",
      "metadata": {
        "id": "wu5_V9eZNraO",
        "outputId": "3000e997-7eb1-427d-e32a-31381f2e2de7",
        "colab": {
          "base_uri": "https://localhost:8080/",
          "height": 272
        },
        "tags": []
      },
      "source": [
        "all_data.info()"
      ],
      "execution_count": 23,
      "outputs": [
        {
          "output_type": "stream",
          "name": "stdout",
          "text": "&lt;class &#39;pandas.core.frame.DataFrame&#39;&gt;\nInt64Index: 1309 entries, 1 to 1309\nData columns (total 8 columns):\n #   Column      Non-Null Count  Dtype  \n---  ------      --------------  -----  \n 0   Pclass      1309 non-null   int64  \n 1   Sex         1309 non-null   object \n 2   Age         1046 non-null   float64\n 3   Fare        1308 non-null   float64\n 4   Embarked    1307 non-null   object \n 5   FamilySize  1309 non-null   int64  \n 6   Is_alone    1309 non-null   int64  \n 7   Title       1309 non-null   object \ndtypes: float64(2), int64(3), object(3)\nmemory usage: 92.0+ KB\n"
        }
      ]
    },
    {
      "cell_type": "markdown",
      "metadata": {
        "id": "2tw-oxbcNxff"
      },
      "source": [
        "### Заполнение пропусков"
      ]
    },
    {
      "cell_type": "code",
      "metadata": {
        "id": "N-csJrHpNyP9"
      },
      "source": [
        "# Среднее арифметическое для возраста\n",
        "all_data['Age']  = all_data['Age'].fillna(value = all_data['Age'].mean())\n",
        "all_data['Fare']  = all_data['Fare'].fillna(value = all_data['Fare'].median())"
      ],
      "execution_count": 24,
      "outputs": []
    },
    {
      "cell_type": "code",
      "metadata": {
        "id": "q0S8jU-BN2jO",
        "outputId": "18aa2737-2cc0-4eff-86f4-74b82a64cd9f",
        "colab": {
          "base_uri": "https://localhost:8080/",
          "height": 272
        },
        "tags": []
      },
      "source": [
        "map_dict_embarked = {'S': 0 , 'C': 1, 'Q':2}\n",
        "all_data['Embarked'] = all_data['Embarked'].map(map_dict_embarked)\n",
        "all_data['Embarked']  = all_data['Embarked'].fillna(value = all_data['Embarked'].median())\n",
        "all_data.info()"
      ],
      "execution_count": 25,
      "outputs": [
        {
          "output_type": "stream",
          "name": "stdout",
          "text": "&lt;class &#39;pandas.core.frame.DataFrame&#39;&gt;\nInt64Index: 1309 entries, 1 to 1309\nData columns (total 8 columns):\n #   Column      Non-Null Count  Dtype  \n---  ------      --------------  -----  \n 0   Pclass      1309 non-null   int64  \n 1   Sex         1309 non-null   object \n 2   Age         1309 non-null   float64\n 3   Fare        1309 non-null   float64\n 4   Embarked    1309 non-null   float64\n 5   FamilySize  1309 non-null   int64  \n 6   Is_alone    1309 non-null   int64  \n 7   Title       1309 non-null   object \ndtypes: float64(3), int64(3), object(2)\nmemory usage: 92.0+ KB\n"
        }
      ]
    },
    {
      "cell_type": "code",
      "metadata": {
        "id": "TfK4ii8MN7Q9",
        "outputId": "d5a9746d-aff7-4caf-fc6e-36af4c309f5e",
        "colab": {
          "base_uri": "https://localhost:8080/",
          "height": 235
        }
      },
      "source": [
        "all_data.head()"
      ],
      "execution_count": 26,
      "outputs": [
        {
          "output_type": "execute_result",
          "data": {
            "text/plain": "             Pclass     Sex   Age     Fare  Embarked  FamilySize  Is_alone  \\\nPassengerId                                                                  \n1                 3    male  22.0   7.2500       0.0           2         0   \n2                 1  female  38.0  71.2833       1.0           2         0   \n3                 3  female  26.0   7.9250       0.0           1         1   \n4                 1  female  35.0  53.1000       0.0           2         0   \n5                 3    male  35.0   8.0500       0.0           1         1   \n\n            Title  \nPassengerId        \n1              Mr  \n2             Mrs  \n3            Miss  \n4             Mrs  \n5              Mr  ",
            "text/html": "<div>\n<style scoped>\n    .dataframe tbody tr th:only-of-type {\n        vertical-align: middle;\n    }\n\n    .dataframe tbody tr th {\n        vertical-align: top;\n    }\n\n    .dataframe thead th {\n        text-align: right;\n    }\n</style>\n<table border=\"1\" class=\"dataframe\">\n  <thead>\n    <tr style=\"text-align: right;\">\n      <th></th>\n      <th>Pclass</th>\n      <th>Sex</th>\n      <th>Age</th>\n      <th>Fare</th>\n      <th>Embarked</th>\n      <th>FamilySize</th>\n      <th>Is_alone</th>\n      <th>Title</th>\n    </tr>\n    <tr>\n      <th>PassengerId</th>\n      <th></th>\n      <th></th>\n      <th></th>\n      <th></th>\n      <th></th>\n      <th></th>\n      <th></th>\n      <th></th>\n    </tr>\n  </thead>\n  <tbody>\n    <tr>\n      <th>1</th>\n      <td>3</td>\n      <td>male</td>\n      <td>22.0</td>\n      <td>7.2500</td>\n      <td>0.0</td>\n      <td>2</td>\n      <td>0</td>\n      <td>Mr</td>\n    </tr>\n    <tr>\n      <th>2</th>\n      <td>1</td>\n      <td>female</td>\n      <td>38.0</td>\n      <td>71.2833</td>\n      <td>1.0</td>\n      <td>2</td>\n      <td>0</td>\n      <td>Mrs</td>\n    </tr>\n    <tr>\n      <th>3</th>\n      <td>3</td>\n      <td>female</td>\n      <td>26.0</td>\n      <td>7.9250</td>\n      <td>0.0</td>\n      <td>1</td>\n      <td>1</td>\n      <td>Miss</td>\n    </tr>\n    <tr>\n      <th>4</th>\n      <td>1</td>\n      <td>female</td>\n      <td>35.0</td>\n      <td>53.1000</td>\n      <td>0.0</td>\n      <td>2</td>\n      <td>0</td>\n      <td>Mrs</td>\n    </tr>\n    <tr>\n      <th>5</th>\n      <td>3</td>\n      <td>male</td>\n      <td>35.0</td>\n      <td>8.0500</td>\n      <td>0.0</td>\n      <td>1</td>\n      <td>1</td>\n      <td>Mr</td>\n    </tr>\n  </tbody>\n</table>\n</div>"
          },
          "metadata": {},
          "execution_count": 26
        }
      ]
    },
    {
      "cell_type": "markdown",
      "metadata": {
        "id": "5n614fO8N-v2"
      },
      "source": [
        "### Нормирование"
      ]
    },
    {
      "cell_type": "code",
      "metadata": {
        "id": "FCJdcsk9OBbj"
      },
      "source": [
        "def my_scaler(df):\n",
        "    return (df-df.min())/(df.max()-df.min())\n",
        "nn_scaler =preprocessing.FunctionTransformer(my_scaler)"
      ],
      "execution_count": 27,
      "outputs": []
    },
    {
      "cell_type": "code",
      "metadata": {
        "id": "0B4_fP4zOEbV"
      },
      "source": [
        "all_data['Age']=nn_scaler.fit_transform(all_data['Age'])\n",
        "all_data['Fare']=nn_scaler.fit_transform(all_data['Fare'])"
      ],
      "execution_count": 28,
      "outputs": []
    },
    {
      "cell_type": "code",
      "metadata": {
        "id": "0ceIf48mOHBb",
        "outputId": "758e910e-1d14-42ba-a121-c4403c11ab35",
        "colab": {
          "base_uri": "https://localhost:8080/",
          "height": 235
        }
      },
      "source": [
        "all_data.head()"
      ],
      "execution_count": 29,
      "outputs": [
        {
          "output_type": "execute_result",
          "data": {
            "text/plain": "             Pclass     Sex       Age      Fare  Embarked  FamilySize  \\\nPassengerId                                                             \n1                 3    male  0.273456  0.014151       0.0           2   \n2                 1  female  0.473882  0.139136       1.0           2   \n3                 3  female  0.323563  0.015469       0.0           1   \n4                 1  female  0.436302  0.103644       0.0           2   \n5                 3    male  0.436302  0.015713       0.0           1   \n\n             Is_alone Title  \nPassengerId                  \n1                   0    Mr  \n2                   0   Mrs  \n3                   1  Miss  \n4                   0   Mrs  \n5                   1    Mr  ",
            "text/html": "<div>\n<style scoped>\n    .dataframe tbody tr th:only-of-type {\n        vertical-align: middle;\n    }\n\n    .dataframe tbody tr th {\n        vertical-align: top;\n    }\n\n    .dataframe thead th {\n        text-align: right;\n    }\n</style>\n<table border=\"1\" class=\"dataframe\">\n  <thead>\n    <tr style=\"text-align: right;\">\n      <th></th>\n      <th>Pclass</th>\n      <th>Sex</th>\n      <th>Age</th>\n      <th>Fare</th>\n      <th>Embarked</th>\n      <th>FamilySize</th>\n      <th>Is_alone</th>\n      <th>Title</th>\n    </tr>\n    <tr>\n      <th>PassengerId</th>\n      <th></th>\n      <th></th>\n      <th></th>\n      <th></th>\n      <th></th>\n      <th></th>\n      <th></th>\n      <th></th>\n    </tr>\n  </thead>\n  <tbody>\n    <tr>\n      <th>1</th>\n      <td>3</td>\n      <td>male</td>\n      <td>0.273456</td>\n      <td>0.014151</td>\n      <td>0.0</td>\n      <td>2</td>\n      <td>0</td>\n      <td>Mr</td>\n    </tr>\n    <tr>\n      <th>2</th>\n      <td>1</td>\n      <td>female</td>\n      <td>0.473882</td>\n      <td>0.139136</td>\n      <td>1.0</td>\n      <td>2</td>\n      <td>0</td>\n      <td>Mrs</td>\n    </tr>\n    <tr>\n      <th>3</th>\n      <td>3</td>\n      <td>female</td>\n      <td>0.323563</td>\n      <td>0.015469</td>\n      <td>0.0</td>\n      <td>1</td>\n      <td>1</td>\n      <td>Miss</td>\n    </tr>\n    <tr>\n      <th>4</th>\n      <td>1</td>\n      <td>female</td>\n      <td>0.436302</td>\n      <td>0.103644</td>\n      <td>0.0</td>\n      <td>2</td>\n      <td>0</td>\n      <td>Mrs</td>\n    </tr>\n    <tr>\n      <th>5</th>\n      <td>3</td>\n      <td>male</td>\n      <td>0.436302</td>\n      <td>0.015713</td>\n      <td>0.0</td>\n      <td>1</td>\n      <td>1</td>\n      <td>Mr</td>\n    </tr>\n  </tbody>\n</table>\n</div>"
          },
          "metadata": {},
          "execution_count": 29
        }
      ]
    },
    {
      "cell_type": "markdown",
      "metadata": {
        "id": "F7bBw4tOOMeA"
      },
      "source": [
        "### 1hot кодирование котегориальных переменных"
      ]
    },
    {
      "cell_type": "code",
      "metadata": {
        "id": "1w3FiBg5ONVw"
      },
      "source": [
        "res_data_all = pd.get_dummies(all_data,columns=['Pclass','Sex','Embarked','FamilySize','Title'])"
      ],
      "execution_count": 30,
      "outputs": []
    },
    {
      "cell_type": "code",
      "metadata": {
        "id": "d3-fQG7yOQl5",
        "outputId": "5f6e6f8f-f306-4bf6-cf58-908881610bb0",
        "colab": {
          "base_uri": "https://localhost:8080/",
          "height": 410
        }
      },
      "source": [
        "res_data_all.head(10)"
      ],
      "execution_count": 31,
      "outputs": [
        {
          "output_type": "execute_result",
          "data": {
            "text/plain": "                  Age      Fare  Is_alone  Pclass_1  Pclass_2  Pclass_3  \\\nPassengerId                                                               \n1            0.273456  0.014151         0         0         0         1   \n2            0.473882  0.139136         0         1         0         0   \n3            0.323563  0.015469         1         0         0         1   \n4            0.436302  0.103644         0         1         0         0   \n5            0.436302  0.015713         1         0         0         1   \n6            0.372180  0.016510         1         0         0         1   \n7            0.674308  0.101229         1         1         0         0   \n8            0.022924  0.041136         0         0         0         1   \n9            0.336089  0.021731         0         0         0         1   \n10           0.173243  0.058694         0         0         1         0   \n\n             Sex_female  Sex_male  Embarked_0.0  Embarked_1.0  ...  \\\nPassengerId                                                    ...   \n1                     0         1             1             0  ...   \n2                     1         0             0             1  ...   \n3                     1         0             1             0  ...   \n4                     1         0             1             0  ...   \n5                     0         1             1             0  ...   \n6                     0         1             0             0  ...   \n7                     0         1             1             0  ...   \n8                     0         1             1             0  ...   \n9                     1         0             1             0  ...   \n10                    1         0             0             1  ...   \n\n             FamilySize_5  FamilySize_6  FamilySize_7  FamilySize_8  \\\nPassengerId                                                           \n1                       0             0             0             0   \n2                       0             0             0             0   \n3                       0             0             0             0   \n4                       0             0             0             0   \n5                       0             0             0             0   \n6                       0             0             0             0   \n7                       0             0             0             0   \n8                       1             0             0             0   \n9                       0             0             0             0   \n10                      0             0             0             0   \n\n             FamilySize_11  Title_Master  Title_Miss  Title_Mr  Title_Mrs  \\\nPassengerId                                                                 \n1                        0             0           0         1          0   \n2                        0             0           0         0          1   \n3                        0             0           1         0          0   \n4                        0             0           0         0          1   \n5                        0             0           0         1          0   \n6                        0             0           0         1          0   \n7                        0             0           0         1          0   \n8                        0             1           0         0          0   \n9                        0             0           0         0          1   \n10                       0             0           0         0          1   \n\n             Title_Rare  \nPassengerId              \n1                     0  \n2                     0  \n3                     0  \n4                     0  \n5                     0  \n6                     0  \n7                     0  \n8                     0  \n9                     0  \n10                    0  \n\n[10 rows x 25 columns]",
            "text/html": "<div>\n<style scoped>\n    .dataframe tbody tr th:only-of-type {\n        vertical-align: middle;\n    }\n\n    .dataframe tbody tr th {\n        vertical-align: top;\n    }\n\n    .dataframe thead th {\n        text-align: right;\n    }\n</style>\n<table border=\"1\" class=\"dataframe\">\n  <thead>\n    <tr style=\"text-align: right;\">\n      <th></th>\n      <th>Age</th>\n      <th>Fare</th>\n      <th>Is_alone</th>\n      <th>Pclass_1</th>\n      <th>Pclass_2</th>\n      <th>Pclass_3</th>\n      <th>Sex_female</th>\n      <th>Sex_male</th>\n      <th>Embarked_0.0</th>\n      <th>Embarked_1.0</th>\n      <th>...</th>\n      <th>FamilySize_5</th>\n      <th>FamilySize_6</th>\n      <th>FamilySize_7</th>\n      <th>FamilySize_8</th>\n      <th>FamilySize_11</th>\n      <th>Title_Master</th>\n      <th>Title_Miss</th>\n      <th>Title_Mr</th>\n      <th>Title_Mrs</th>\n      <th>Title_Rare</th>\n    </tr>\n    <tr>\n      <th>PassengerId</th>\n      <th></th>\n      <th></th>\n      <th></th>\n      <th></th>\n      <th></th>\n      <th></th>\n      <th></th>\n      <th></th>\n      <th></th>\n      <th></th>\n      <th></th>\n      <th></th>\n      <th></th>\n      <th></th>\n      <th></th>\n      <th></th>\n      <th></th>\n      <th></th>\n      <th></th>\n      <th></th>\n      <th></th>\n    </tr>\n  </thead>\n  <tbody>\n    <tr>\n      <th>1</th>\n      <td>0.273456</td>\n      <td>0.014151</td>\n      <td>0</td>\n      <td>0</td>\n      <td>0</td>\n      <td>1</td>\n      <td>0</td>\n      <td>1</td>\n      <td>1</td>\n      <td>0</td>\n      <td>...</td>\n      <td>0</td>\n      <td>0</td>\n      <td>0</td>\n      <td>0</td>\n      <td>0</td>\n      <td>0</td>\n      <td>0</td>\n      <td>1</td>\n      <td>0</td>\n      <td>0</td>\n    </tr>\n    <tr>\n      <th>2</th>\n      <td>0.473882</td>\n      <td>0.139136</td>\n      <td>0</td>\n      <td>1</td>\n      <td>0</td>\n      <td>0</td>\n      <td>1</td>\n      <td>0</td>\n      <td>0</td>\n      <td>1</td>\n      <td>...</td>\n      <td>0</td>\n      <td>0</td>\n      <td>0</td>\n      <td>0</td>\n      <td>0</td>\n      <td>0</td>\n      <td>0</td>\n      <td>0</td>\n      <td>1</td>\n      <td>0</td>\n    </tr>\n    <tr>\n      <th>3</th>\n      <td>0.323563</td>\n      <td>0.015469</td>\n      <td>1</td>\n      <td>0</td>\n      <td>0</td>\n      <td>1</td>\n      <td>1</td>\n      <td>0</td>\n      <td>1</td>\n      <td>0</td>\n      <td>...</td>\n      <td>0</td>\n      <td>0</td>\n      <td>0</td>\n      <td>0</td>\n      <td>0</td>\n      <td>0</td>\n      <td>1</td>\n      <td>0</td>\n      <td>0</td>\n      <td>0</td>\n    </tr>\n    <tr>\n      <th>4</th>\n      <td>0.436302</td>\n      <td>0.103644</td>\n      <td>0</td>\n      <td>1</td>\n      <td>0</td>\n      <td>0</td>\n      <td>1</td>\n      <td>0</td>\n      <td>1</td>\n      <td>0</td>\n      <td>...</td>\n      <td>0</td>\n      <td>0</td>\n      <td>0</td>\n      <td>0</td>\n      <td>0</td>\n      <td>0</td>\n      <td>0</td>\n      <td>0</td>\n      <td>1</td>\n      <td>0</td>\n    </tr>\n    <tr>\n      <th>5</th>\n      <td>0.436302</td>\n      <td>0.015713</td>\n      <td>1</td>\n      <td>0</td>\n      <td>0</td>\n      <td>1</td>\n      <td>0</td>\n      <td>1</td>\n      <td>1</td>\n      <td>0</td>\n      <td>...</td>\n      <td>0</td>\n      <td>0</td>\n      <td>0</td>\n      <td>0</td>\n      <td>0</td>\n      <td>0</td>\n      <td>0</td>\n      <td>1</td>\n      <td>0</td>\n      <td>0</td>\n    </tr>\n    <tr>\n      <th>6</th>\n      <td>0.372180</td>\n      <td>0.016510</td>\n      <td>1</td>\n      <td>0</td>\n      <td>0</td>\n      <td>1</td>\n      <td>0</td>\n      <td>1</td>\n      <td>0</td>\n      <td>0</td>\n      <td>...</td>\n      <td>0</td>\n      <td>0</td>\n      <td>0</td>\n      <td>0</td>\n      <td>0</td>\n      <td>0</td>\n      <td>0</td>\n      <td>1</td>\n      <td>0</td>\n      <td>0</td>\n    </tr>\n    <tr>\n      <th>7</th>\n      <td>0.674308</td>\n      <td>0.101229</td>\n      <td>1</td>\n      <td>1</td>\n      <td>0</td>\n      <td>0</td>\n      <td>0</td>\n      <td>1</td>\n      <td>1</td>\n      <td>0</td>\n      <td>...</td>\n      <td>0</td>\n      <td>0</td>\n      <td>0</td>\n      <td>0</td>\n      <td>0</td>\n      <td>0</td>\n      <td>0</td>\n      <td>1</td>\n      <td>0</td>\n      <td>0</td>\n    </tr>\n    <tr>\n      <th>8</th>\n      <td>0.022924</td>\n      <td>0.041136</td>\n      <td>0</td>\n      <td>0</td>\n      <td>0</td>\n      <td>1</td>\n      <td>0</td>\n      <td>1</td>\n      <td>1</td>\n      <td>0</td>\n      <td>...</td>\n      <td>1</td>\n      <td>0</td>\n      <td>0</td>\n      <td>0</td>\n      <td>0</td>\n      <td>1</td>\n      <td>0</td>\n      <td>0</td>\n      <td>0</td>\n      <td>0</td>\n    </tr>\n    <tr>\n      <th>9</th>\n      <td>0.336089</td>\n      <td>0.021731</td>\n      <td>0</td>\n      <td>0</td>\n      <td>0</td>\n      <td>1</td>\n      <td>1</td>\n      <td>0</td>\n      <td>1</td>\n      <td>0</td>\n      <td>...</td>\n      <td>0</td>\n      <td>0</td>\n      <td>0</td>\n      <td>0</td>\n      <td>0</td>\n      <td>0</td>\n      <td>0</td>\n      <td>0</td>\n      <td>1</td>\n      <td>0</td>\n    </tr>\n    <tr>\n      <th>10</th>\n      <td>0.173243</td>\n      <td>0.058694</td>\n      <td>0</td>\n      <td>0</td>\n      <td>1</td>\n      <td>0</td>\n      <td>1</td>\n      <td>0</td>\n      <td>0</td>\n      <td>1</td>\n      <td>...</td>\n      <td>0</td>\n      <td>0</td>\n      <td>0</td>\n      <td>0</td>\n      <td>0</td>\n      <td>0</td>\n      <td>0</td>\n      <td>0</td>\n      <td>1</td>\n      <td>0</td>\n    </tr>\n  </tbody>\n</table>\n<p>10 rows × 25 columns</p>\n</div>"
          },
          "metadata": {},
          "execution_count": 31
        }
      ]
    },
    {
      "cell_type": "code",
      "metadata": {
        "id": "uiGPl6lnOVTc",
        "outputId": "70e1e327-4cf0-45b6-e8b0-c6bafafe7961",
        "colab": {
          "base_uri": "https://localhost:8080/",
          "height": 51
        },
        "tags": []
      },
      "source": [
        "# Приготовим датасет для машинного обучения в разбивке как было дано изначально (tain, test)\n",
        "X = res_data_all.values\n",
        "x_train = X[:len(train_data)]\n",
        "x_test = X[len(train_data):]\n",
        "print(x_train.shape)\n",
        "print(x_test.shape)"
      ],
      "execution_count": 32,
      "outputs": [
        {
          "output_type": "stream",
          "name": "stdout",
          "text": "(891, 25)\n(418, 25)\n"
        }
      ]
    },
    {
      "cell_type": "code",
      "metadata": {
        "id": "1v_MPyzVOYef",
        "outputId": "f5f61cc1-224d-453e-9bd7-5bb58ded87aa",
        "colab": {
          "base_uri": "https://localhost:8080/",
          "height": 51
        },
        "tags": []
      },
      "source": [
        "# Проверям соответствие количеству строк первоначальным данным:\n",
        "print(train_data.shape)\n",
        "print(test_data.shape)"
      ],
      "execution_count": 33,
      "outputs": [
        {
          "output_type": "stream",
          "name": "stdout",
          "text": "(891, 10)\n(418, 10)\n"
        }
      ]
    },
    {
      "cell_type": "code",
      "metadata": {
        "id": "BtM3KnqROZyP"
      },
      "source": [
        "# x_train,x_test готовы для моделей машинного обучения"
      ],
      "execution_count": 34,
      "outputs": []
    },
    {
      "cell_type": "markdown",
      "metadata": {
        "id": "dHTqI3cwOc6k"
      },
      "source": [
        "#### Сервисные фунуции для моделей ML"
      ]
    },
    {
      "cell_type": "code",
      "metadata": {
        "id": "NiXFFh8SOf5W"
      },
      "source": [
        "# монитор динамического отображения процесса обучения (график пока не работает в колабе-баг!)\n",
        "class acc_mon(keras.callbacks.Callback):\n",
        "    def __init__(self,f,e_stop=20,a_stop=0.60):\n",
        "        self.x=[]\n",
        "        self.y1=[]\n",
        "        self.y2=[]\n",
        "        self.fw=f\n",
        "        self.e_stop=e_stop\n",
        "        self.a_stop=a_stop\n",
        "    def on_train_begin(self, logs=None):\n",
        "        print(\"Start training:\")\n",
        "        self.fw.add_scatter(x=self.x,y=self.y1,mode = 'lines',name = 'Train accuracy', line_color=\"green\", showlegend = True)\n",
        "        self.fw.add_scatter(x=self.x,y=self.y2,mode = 'lines',name = 'Validation accuracy', line_color=\"red\", showlegend = True)\n",
        "        self.fw.update_layout(title_text=\"Train and validation accuracy\",\n",
        "                  title_x = 0.45,\n",
        "                  title_y= 0.9,\n",
        "                  title_xanchor = \"center\",\n",
        "                  title_yanchor = \"bottom\",template='gridon',\n",
        "                  xaxis_title='Epoch', yaxis_title='Accuracy',width = 800, height = 500)\n",
        "        scat1=self.fw.data[0]\n",
        "        scat1.y=self.y1\n",
        "        scat1.x=self.x\n",
        "        scat2=self.fw.data[1]\n",
        "        scat2.y=self.y2\n",
        "        scat2.x=self.x\n",
        "    def on_epoch_end(self, epoch, logs):\n",
        "        if epoch > self.e_stop and logs.get('val_accuracy') < self.a_stop:\n",
        "            print('Poor performance! Rebuild model!')\n",
        "            print('-> epoch:',epoch,'acc:',round(logs['accuracy'],6),'val_acc:',round(logs['val_accuracy'],6))\n",
        "            self.model.stop_training = True\n",
        "        elif epoch > 0 and epoch % 10 == 0:\n",
        "            print('-> epoch:',epoch,' ',end='')\n",
        "            for i in logs.keys():\n",
        "                print(i,\":\",round(logs[i],8),' ',end='')\n",
        "            print('')\n",
        "        print('.', end='')\n",
        "        self.x.append(epoch)\n",
        "        self.y1.append(logs['accuracy'])\n",
        "        self.y2.append(logs['val_accuracy'])\n",
        "        scat1=self.fw.data[0]\n",
        "        scat1.y=self.y1\n",
        "        scat1.x=self.x\n",
        "        scat2=self.fw.data[1]\n",
        "        scat2.y=self.y2\n",
        "        scat2.x=self.x\n",
        " \n"
      ],
      "execution_count": 35,
      "outputs": []
    },
    {
      "cell_type": "code",
      "metadata": {
        "id": "IXFyqCSmOlpb"
      },
      "source": [
        "# Callback для управления шагом обучения\n",
        "learn_rate=keras.callbacks.ReduceLROnPlateau(monitor='val_loss',factor=0.1,patience=15)"
      ],
      "execution_count": 36,
      "outputs": []
    },
    {
      "cell_type": "code",
      "metadata": {
        "id": "Zp4snrarOsBt"
      },
      "source": [
        "# Callback для остановки обучения в случае если долго нет улучшений на проверочной выборке\n",
        "early_stop = keras.callbacks.EarlyStopping(monitor='val_loss', patience=50,restore_best_weights=True)"
      ],
      "execution_count": 37,
      "outputs": []
    },
    {
      "cell_type": "code",
      "metadata": {
        "id": "XGS9K7xBiIrL"
      },
      "source": [
        "def trainplot(hist): # функция строит графики ошибок\n",
        "  fig = go.Figure()\n",
        "\n",
        "  fig.add_trace(\n",
        "    go.Scatter(x=hist['epoch'],y=hist['loss'],mode = 'lines',name = 'Train error', line_color=\"green\", showlegend = True))\n",
        "    \n",
        "  fig.add_trace(\n",
        "    go.Scatter(x=hist['epoch'],y=hist['val_loss'],mode = 'lines',name = 'Validation error', line_color=\"red\", showlegend = True))\n",
        "\n",
        "    \n",
        "  fig.update_layout(title_text=\"Зависимость ошибок на проверочной и валидационной <br> выборках от эпохи обучения\",\n",
        "                  title_x = 0.5,\n",
        "                  title_y= 0.9,\n",
        "                  title_xanchor = \"center\",\n",
        "                  title_yanchor = \"bottom\",\n",
        "                  xaxis_title='Эпоха', yaxis_title='Ошибка',width = 800, height = 500)\n",
        "  fig.show()"
      ],
      "execution_count": 38,
      "outputs": []
    },
    {
      "cell_type": "markdown",
      "metadata": {
        "id": "tByQ5iO6O4Jg"
      },
      "source": [
        "### Построение моделей ML"
      ]
    },
    {
      "cell_type": "code",
      "metadata": {
        "id": "geBFW98FO6ub"
      },
      "source": [
        "# Функция пересоздаёт пустую сеть\n",
        "def createModel():\n",
        "\n",
        "  # Создаем сеть\n",
        "  model = Sequential()\n",
        "\n",
        "  # Добавляем слои\n",
        "  model.add(Dense(100, input_shape=(25,), activation='sigmoid'))\n",
        "  model.add(Dense(50,  activation='sigmoid'))\n",
        "  \n",
        "  model.add(Dropout(0.25))\n",
        "\n",
        "  model.add(Dense(25,  activation='sigmoid'))\n",
        "  \n",
        "\n",
        "  model.add(Dense(1,activation='sigmoid'))\n",
        "\n",
        "  # Компилируем сеть\n",
        "  model.compile(loss='binary_crossentropy', optimizer='adam', metrics=['accuracy'])\n",
        "\n",
        "  return model # Возвращаем созданную сеть"
      ],
      "execution_count": 39,
      "outputs": []
    },
    {
      "cell_type": "code",
      "metadata": {
        "id": "RyiIWGwBO-XO",
        "outputId": "9e40c002-9630-4969-d933-44797312584e",
        "colab": {
          "base_uri": "https://localhost:8080/",
          "height": 323
        },
        "tags": []
      },
      "source": [
        "# Создаём пустую сеть\n",
        "model = createModel()\n",
        "model.summary()"
      ],
      "execution_count": 40,
      "outputs": [
        {
          "output_type": "stream",
          "name": "stdout",
          "text": "Model: &quot;sequential&quot;\n_________________________________________________________________\nLayer (type)                 Output Shape              Param #   \n=================================================================\ndense (Dense)                (None, 100)               2600      \n_________________________________________________________________\ndense_1 (Dense)              (None, 50)                5050      \n_________________________________________________________________\ndropout (Dropout)            (None, 50)                0         \n_________________________________________________________________\ndense_2 (Dense)              (None, 25)                1275      \n_________________________________________________________________\ndense_3 (Dense)              (None, 1)                 26        \n=================================================================\nTotal params: 8,951\nTrainable params: 8,951\nNon-trainable params: 0\n_________________________________________________________________\n"
        }
      ]
    },
    {
      "cell_type": "code",
      "metadata": {
        "id": "hKnbDqIDfVsc",
        "outputId": "b8b8d6f1-789f-40b0-c2ce-3db13fe0b580",
        "colab": {
          "base_uri": "https://localhost:8080/",
          "height": 17,
          "referenced_widgets": [
            "a3c7a0e4ad454a1ea835d82426b12ee9"
          ]
        }
      },
      "source": [
        "# Создаем виджет-монитор для отображения процесса обучения (пока не работает в колабе - работает на домашнем компьютере)\n",
        "fw1 = go.FigureWidget()\n",
        "fw1"
      ],
      "execution_count": 41,
      "outputs": [
        {
          "output_type": "display_data",
          "data": {
            "text/plain": "FigureWidget({\n    &#39;data&#39;: [], &#39;layout&#39;: {&#39;template&#39;: &#39;...&#39;}\n})",
            "application/vnd.jupyter.widget-view+json": {
              "version_major": 2,
              "version_minor": 0,
              "model_id": "bb3cceba1560468f86b2b95a23ef71a5"
            }
          },
          "metadata": {}
        }
      ]
    },
    {
      "cell_type": "code",
      "metadata": {
        "id": "PR45vQ2WPJLh",
        "outputId": "70c2e741-a248-4edb-a186-8d0ebf9a0ba6",
        "colab": {
          "base_uri": "https://localhost:8080/",
          "height": 340
        },
        "tags": []
      },
      "source": [
        "# Обучаем сеть\n",
        "callbacks_list=[learn_rate,early_stop,acc_mon(fw1)]\n",
        "report=model.fit(x_train, \n",
        "          y_train,\n",
        "          batch_size=100, \n",
        "          epochs=1000,\n",
        "          validation_split=0.2,\n",
        "          verbose=0,callbacks=callbacks_list)"
      ],
      "execution_count": 42,
      "outputs": [
        {
          "output_type": "stream",
          "name": "stdout",
          "text": "Start training:\n..........-&gt; epoch: 10  loss : 0.64121348  accuracy : 0.6320225  val_loss : 0.61602509  val_accuracy : 0.64245808  lr : 0.001  \n..........-&gt; epoch: 20  loss : 0.49813625  accuracy : 0.79634833  val_loss : 0.44466162  val_accuracy : 0.82122904  lr : 0.001  \n..........-&gt; epoch: 30  loss : 0.45055455  accuracy : 0.81320226  val_loss : 0.39400634  val_accuracy : 0.83798885  lr : 0.001  \n..........-&gt; epoch: 40  loss : 0.43544114  accuracy : 0.81741571  val_loss : 0.3776333  val_accuracy : 0.83798885  lr : 0.001  \n..........-&gt; epoch: 50  loss : 0.42301053  accuracy : 0.81741571  val_loss : 0.37099916  val_accuracy : 0.83798885  lr : 0.001  \n..........-&gt; epoch: 60  loss : 0.41912362  accuracy : 0.82162923  val_loss : 0.36052766  val_accuracy : 0.84357542  lr : 0.001  \n..........-&gt; epoch: 70  loss : 0.41923133  accuracy : 0.81460673  val_loss : 0.35920033  val_accuracy : 0.84916198  lr : 0.001  \n..........-&gt; epoch: 80  loss : 0.41911423  accuracy : 0.82584268  val_loss : 0.35265017  val_accuracy : 0.84916198  lr : 0.001  \n..........-&gt; epoch: 90  loss : 0.41009471  accuracy : 0.82162923  val_loss : 0.35459113  val_accuracy : 0.85474861  lr : 0.001  \n..........-&gt; epoch: 100  loss : 0.40065229  accuracy : 0.82443821  val_loss : 0.3500284  val_accuracy : 0.85474861  lr : 0.001  \n..........-&gt; epoch: 110  loss : 0.41015643  accuracy : 0.82303369  val_loss : 0.35086212  val_accuracy : 0.84357542  lr : 0.001  \n..........-&gt; epoch: 120  loss : 0.40825152  accuracy : 0.8272472  val_loss : 0.34259099  val_accuracy : 0.87150836  lr : 0.001  \n..........-&gt; epoch: 130  loss : 0.40557051  accuracy : 0.83146065  val_loss : 0.34214681  val_accuracy : 0.86033517  lr : 0.001  \n..........-&gt; epoch: 140  loss : 0.40067235  accuracy : 0.82162923  val_loss : 0.34625122  val_accuracy : 0.84916198  lr : 0.001  \n..........-&gt; epoch: 150  loss : 0.40491542  accuracy : 0.83146065  val_loss : 0.34440339  val_accuracy : 0.8659218  lr : 1e-04  \n..........-&gt; epoch: 160  loss : 0.4013139  accuracy : 0.83567417  val_loss : 0.34388509  val_accuracy : 0.8659218  lr : 1e-05  \n..........-&gt; epoch: 170  loss : 0.39915955  accuracy : 0.82162923  val_loss : 0.34397817  val_accuracy : 0.8659218  lr : 1e-05  \n......."
        }
      ]
    },
    {
      "cell_type": "code",
      "metadata": {
        "id": "BK7qZpC8PQyn",
        "outputId": "9cdf25a8-240b-4e3b-866e-4f586bb7e7d2",
        "colab": {
          "base_uri": "https://localhost:8080/",
          "height": 204
        }
      },
      "source": [
        "df_report = pd.DataFrame(report.history) # Сохраняем историю обучения в датафрейм\n",
        "df_report['epoch'] = report.epoch\n",
        "df_report.tail()"
      ],
      "execution_count": 43,
      "outputs": [
        {
          "output_type": "execute_result",
          "data": {
            "text/plain": "         loss  accuracy  val_loss  val_accuracy        lr  epoch\n172  0.402883  0.834270  0.344011      0.865922  0.000001    172\n173  0.404267  0.837079  0.344013      0.865922  0.000001    173\n174  0.398499  0.832865  0.344016      0.865922  0.000001    174\n175  0.404728  0.827247  0.344016      0.865922  0.000001    175\n176  0.401742  0.831461  0.344016      0.865922  0.000001    176",
            "text/html": "<div>\n<style scoped>\n    .dataframe tbody tr th:only-of-type {\n        vertical-align: middle;\n    }\n\n    .dataframe tbody tr th {\n        vertical-align: top;\n    }\n\n    .dataframe thead th {\n        text-align: right;\n    }\n</style>\n<table border=\"1\" class=\"dataframe\">\n  <thead>\n    <tr style=\"text-align: right;\">\n      <th></th>\n      <th>loss</th>\n      <th>accuracy</th>\n      <th>val_loss</th>\n      <th>val_accuracy</th>\n      <th>lr</th>\n      <th>epoch</th>\n    </tr>\n  </thead>\n  <tbody>\n    <tr>\n      <th>172</th>\n      <td>0.402883</td>\n      <td>0.834270</td>\n      <td>0.344011</td>\n      <td>0.865922</td>\n      <td>0.000001</td>\n      <td>172</td>\n    </tr>\n    <tr>\n      <th>173</th>\n      <td>0.404267</td>\n      <td>0.837079</td>\n      <td>0.344013</td>\n      <td>0.865922</td>\n      <td>0.000001</td>\n      <td>173</td>\n    </tr>\n    <tr>\n      <th>174</th>\n      <td>0.398499</td>\n      <td>0.832865</td>\n      <td>0.344016</td>\n      <td>0.865922</td>\n      <td>0.000001</td>\n      <td>174</td>\n    </tr>\n    <tr>\n      <th>175</th>\n      <td>0.404728</td>\n      <td>0.827247</td>\n      <td>0.344016</td>\n      <td>0.865922</td>\n      <td>0.000001</td>\n      <td>175</td>\n    </tr>\n    <tr>\n      <th>176</th>\n      <td>0.401742</td>\n      <td>0.831461</td>\n      <td>0.344016</td>\n      <td>0.865922</td>\n      <td>0.000001</td>\n      <td>176</td>\n    </tr>\n  </tbody>\n</table>\n</div>"
          },
          "metadata": {},
          "execution_count": 43
        }
      ]
    },
    {
      "cell_type": "code",
      "metadata": {
        "id": "gvxnf0h0PWtg",
        "outputId": "a0ddc765-cfec-46b3-b142-66168a838f3d",
        "colab": {
          "base_uri": "https://localhost:8080/",
          "height": 517
        }
      },
      "source": [
        "# выводим график обучения модели\n",
        "trainplot(df_report)"
      ],
      "execution_count": 44,
      "outputs": [
        {
          "output_type": "display_data",
          "data": {
            "application/vnd.plotly.v1+json": {
              "config": {
                "plotlyServerURL": "https://plot.ly"
              },
              "data": [
                {
                  "line": {
                    "color": "green"
                  },
                  "mode": "lines",
                  "name": "Train error",
                  "showlegend": true,
                  "type": "scatter",
                  "x": [
                    0,
                    1,
                    2,
                    3,
                    4,
                    5,
                    6,
                    7,
                    8,
                    9,
                    10,
                    11,
                    12,
                    13,
                    14,
                    15,
                    16,
                    17,
                    18,
                    19,
                    20,
                    21,
                    22,
                    23,
                    24,
                    25,
                    26,
                    27,
                    28,
                    29,
                    30,
                    31,
                    32,
                    33,
                    34,
                    35,
                    36,
                    37,
                    38,
                    39,
                    40,
                    41,
                    42,
                    43,
                    44,
                    45,
                    46,
                    47,
                    48,
                    49,
                    50,
                    51,
                    52,
                    53,
                    54,
                    55,
                    56,
                    57,
                    58,
                    59,
                    60,
                    61,
                    62,
                    63,
                    64,
                    65,
                    66,
                    67,
                    68,
                    69,
                    70,
                    71,
                    72,
                    73,
                    74,
                    75,
                    76,
                    77,
                    78,
                    79,
                    80,
                    81,
                    82,
                    83,
                    84,
                    85,
                    86,
                    87,
                    88,
                    89,
                    90,
                    91,
                    92,
                    93,
                    94,
                    95,
                    96,
                    97,
                    98,
                    99,
                    100,
                    101,
                    102,
                    103,
                    104,
                    105,
                    106,
                    107,
                    108,
                    109,
                    110,
                    111,
                    112,
                    113,
                    114,
                    115,
                    116,
                    117,
                    118,
                    119,
                    120,
                    121,
                    122,
                    123,
                    124,
                    125,
                    126,
                    127,
                    128,
                    129,
                    130,
                    131,
                    132,
                    133,
                    134,
                    135,
                    136,
                    137,
                    138,
                    139,
                    140,
                    141,
                    142,
                    143,
                    144,
                    145,
                    146,
                    147,
                    148,
                    149,
                    150,
                    151,
                    152,
                    153,
                    154,
                    155,
                    156,
                    157,
                    158,
                    159,
                    160,
                    161,
                    162,
                    163,
                    164,
                    165,
                    166,
                    167,
                    168,
                    169,
                    170,
                    171,
                    172,
                    173,
                    174,
                    175,
                    176
                  ],
                  "y": [
                    0.6817141175270081,
                    0.6693910956382751,
                    0.6678345203399658,
                    0.6640613675117493,
                    0.6635940074920654,
                    0.6604790687561035,
                    0.6566956043243408,
                    0.6578887104988098,
                    0.6497735977172852,
                    0.6479727625846863,
                    0.6412134766578674,
                    0.6348651051521301,
                    0.6224229335784912,
                    0.6125872135162354,
                    0.5974308848381042,
                    0.5826175808906555,
                    0.5613162517547607,
                    0.5431584715843201,
                    0.526311993598938,
                    0.5096558332443237,
                    0.4981362521648407,
                    0.4803963601589203,
                    0.48089972138404846,
                    0.471000075340271,
                    0.4699488878250122,
                    0.4608510434627533,
                    0.46006911993026733,
                    0.4613859951496124,
                    0.4543674886226654,
                    0.4524567723274231,
                    0.4505545496940613,
                    0.45115065574645996,
                    0.4457359313964844,
                    0.44965648651123047,
                    0.44316962361335754,
                    0.43678537011146545,
                    0.4377520680427551,
                    0.44513773918151855,
                    0.4320780634880066,
                    0.4325118660926819,
                    0.43544113636016846,
                    0.43600425124168396,
                    0.42679721117019653,
                    0.4286172091960907,
                    0.4262225031852722,
                    0.4244838356971741,
                    0.42849910259246826,
                    0.43169209361076355,
                    0.4268431067466736,
                    0.4237285554409027,
                    0.42301052808761597,
                    0.4218398630619049,
                    0.42404642701148987,
                    0.42162609100341797,
                    0.4230739176273346,
                    0.4218214154243469,
                    0.4178794324398041,
                    0.41912564635276794,
                    0.4125264585018158,
                    0.4278777539730072,
                    0.4191236197948456,
                    0.42138904333114624,
                    0.4212929308414459,
                    0.4190756678581238,
                    0.42430779337882996,
                    0.41924843192100525,
                    0.42491990327835083,
                    0.4198009669780731,
                    0.4141181409358978,
                    0.41040822863578796,
                    0.4192313253879547,
                    0.4157521426677704,
                    0.4147210419178009,
                    0.4226374626159668,
                    0.4145585000514984,
                    0.4061889946460724,
                    0.42050448060035706,
                    0.4152521789073944,
                    0.4102960228919983,
                    0.4184095859527588,
                    0.41911423206329346,
                    0.4139150083065033,
                    0.41426464915275574,
                    0.4084261357784271,
                    0.40912869572639465,
                    0.41870203614234924,
                    0.41304996609687805,
                    0.41050317883491516,
                    0.4102781116962433,
                    0.4177058935165405,
                    0.4100947082042694,
                    0.4131549000740051,
                    0.4177609086036682,
                    0.41239428520202637,
                    0.41173651814460754,
                    0.40596410632133484,
                    0.41102924942970276,
                    0.40848591923713684,
                    0.4082306921482086,
                    0.4083254635334015,
                    0.40065228939056396,
                    0.40991565585136414,
                    0.3996187746524811,
                    0.4059430658817291,
                    0.4069684147834778,
                    0.4064634442329407,
                    0.4120846092700958,
                    0.40846818685531616,
                    0.40863925218582153,
                    0.401472270488739,
                    0.4101564288139343,
                    0.41063085198402405,
                    0.4066595137119293,
                    0.4110548794269562,
                    0.4087247848510742,
                    0.41002029180526733,
                    0.40853002667427063,
                    0.40372440218925476,
                    0.40527307987213135,
                    0.4083292782306671,
                    0.4082515239715576,
                    0.40492334961891174,
                    0.4027523100376129,
                    0.4081486761569977,
                    0.405326247215271,
                    0.4069410264492035,
                    0.40103188157081604,
                    0.4093751907348633,
                    0.4048798680305481,
                    0.4071725010871887,
                    0.40557050704956055,
                    0.40661171078681946,
                    0.40504780411720276,
                    0.40977412462234497,
                    0.40643131732940674,
                    0.40506598353385925,
                    0.4096933901309967,
                    0.41550004482269287,
                    0.4020593762397766,
                    0.4002055525779724,
                    0.4006723463535309,
                    0.406410813331604,
                    0.4019756019115448,
                    0.40304115414619446,
                    0.4024266302585602,
                    0.40596187114715576,
                    0.4088922441005707,
                    0.4094426929950714,
                    0.40550464391708374,
                    0.4035303294658661,
                    0.4049154222011566,
                    0.4009268283843994,
                    0.4057750999927521,
                    0.3965519964694977,
                    0.4011223614215851,
                    0.4033867418766022,
                    0.410068541765213,
                    0.4031623303890228,
                    0.40363916754722595,
                    0.4046715795993805,
                    0.4013139009475708,
                    0.4023485481739044,
                    0.40412724018096924,
                    0.4056394398212433,
                    0.40682774782180786,
                    0.3958894610404968,
                    0.40004345774650574,
                    0.4053196310997009,
                    0.4111601710319519,
                    0.40016770362854004,
                    0.3991595506668091,
                    0.4037378430366516,
                    0.4028832018375397,
                    0.4042666256427765,
                    0.39849889278411865,
                    0.4047275185585022,
                    0.4017415940761566
                  ]
                },
                {
                  "line": {
                    "color": "red"
                  },
                  "mode": "lines",
                  "name": "Validation error",
                  "showlegend": true,
                  "type": "scatter",
                  "x": [
                    0,
                    1,
                    2,
                    3,
                    4,
                    5,
                    6,
                    7,
                    8,
                    9,
                    10,
                    11,
                    12,
                    13,
                    14,
                    15,
                    16,
                    17,
                    18,
                    19,
                    20,
                    21,
                    22,
                    23,
                    24,
                    25,
                    26,
                    27,
                    28,
                    29,
                    30,
                    31,
                    32,
                    33,
                    34,
                    35,
                    36,
                    37,
                    38,
                    39,
                    40,
                    41,
                    42,
                    43,
                    44,
                    45,
                    46,
                    47,
                    48,
                    49,
                    50,
                    51,
                    52,
                    53,
                    54,
                    55,
                    56,
                    57,
                    58,
                    59,
                    60,
                    61,
                    62,
                    63,
                    64,
                    65,
                    66,
                    67,
                    68,
                    69,
                    70,
                    71,
                    72,
                    73,
                    74,
                    75,
                    76,
                    77,
                    78,
                    79,
                    80,
                    81,
                    82,
                    83,
                    84,
                    85,
                    86,
                    87,
                    88,
                    89,
                    90,
                    91,
                    92,
                    93,
                    94,
                    95,
                    96,
                    97,
                    98,
                    99,
                    100,
                    101,
                    102,
                    103,
                    104,
                    105,
                    106,
                    107,
                    108,
                    109,
                    110,
                    111,
                    112,
                    113,
                    114,
                    115,
                    116,
                    117,
                    118,
                    119,
                    120,
                    121,
                    122,
                    123,
                    124,
                    125,
                    126,
                    127,
                    128,
                    129,
                    130,
                    131,
                    132,
                    133,
                    134,
                    135,
                    136,
                    137,
                    138,
                    139,
                    140,
                    141,
                    142,
                    143,
                    144,
                    145,
                    146,
                    147,
                    148,
                    149,
                    150,
                    151,
                    152,
                    153,
                    154,
                    155,
                    156,
                    157,
                    158,
                    159,
                    160,
                    161,
                    162,
                    163,
                    164,
                    165,
                    166,
                    167,
                    168,
                    169,
                    170,
                    171,
                    172,
                    173,
                    174,
                    175,
                    176
                  ],
                  "y": [
                    0.6521867513656616,
                    0.6491641402244568,
                    0.6473696231842041,
                    0.6461461186408997,
                    0.6472665071487427,
                    0.6413965225219727,
                    0.6364718675613403,
                    0.6316878795623779,
                    0.6295847296714783,
                    0.630381166934967,
                    0.6160250902175903,
                    0.6030259728431702,
                    0.5918206572532654,
                    0.5769225358963013,
                    0.559999406337738,
                    0.5390969514846802,
                    0.5185851454734802,
                    0.49600738286972046,
                    0.4770432710647583,
                    0.4584850072860718,
                    0.44466161727905273,
                    0.43417516350746155,
                    0.42796996235847473,
                    0.41828790307044983,
                    0.41399502754211426,
                    0.40940889716148376,
                    0.40647241473197937,
                    0.40323716402053833,
                    0.4002457857131958,
                    0.3976956605911255,
                    0.3940063416957855,
                    0.3915734887123108,
                    0.3887871205806732,
                    0.387842059135437,
                    0.38698291778564453,
                    0.38499125838279724,
                    0.3827683925628662,
                    0.381137877702713,
                    0.3803909122943878,
                    0.38213884830474854,
                    0.37763330340385437,
                    0.37549954652786255,
                    0.37424159049987793,
                    0.37433764338493347,
                    0.3730727434158325,
                    0.37326592206954956,
                    0.3723194897174835,
                    0.3696223795413971,
                    0.3693641424179077,
                    0.36947935819625854,
                    0.37099915742874146,
                    0.3670380711555481,
                    0.3665544390678406,
                    0.3660367429256439,
                    0.36761584877967834,
                    0.3662812113761902,
                    0.3653026521205902,
                    0.36446768045425415,
                    0.36239171028137207,
                    0.36082369089126587,
                    0.3605276644229889,
                    0.36058878898620605,
                    0.35975340008735657,
                    0.359375923871994,
                    0.3610672652721405,
                    0.36435210704803467,
                    0.36103105545043945,
                    0.3582225739955902,
                    0.35899582505226135,
                    0.3593732416629791,
                    0.3592003285884857,
                    0.35634851455688477,
                    0.3567673861980438,
                    0.3555963933467865,
                    0.35503891110420227,
                    0.35376662015914917,
                    0.355464905500412,
                    0.35247132182121277,
                    0.35211578011512756,
                    0.35114261507987976,
                    0.35265016555786133,
                    0.3518453538417816,
                    0.35056835412979126,
                    0.35221701860427856,
                    0.35388338565826416,
                    0.35006678104400635,
                    0.355056494474411,
                    0.3534078299999237,
                    0.34747713804244995,
                    0.34706780314445496,
                    0.35459113121032715,
                    0.3482728600502014,
                    0.34779834747314453,
                    0.3504217565059662,
                    0.3500533998012543,
                    0.3471599221229553,
                    0.3482130765914917,
                    0.3458917438983917,
                    0.34501349925994873,
                    0.34646496176719666,
                    0.350028395652771,
                    0.34413570165634155,
                    0.34311890602111816,
                    0.34258028864860535,
                    0.3435215651988983,
                    0.34542763233184814,
                    0.3463421165943146,
                    0.3448467552661896,
                    0.3433154225349426,
                    0.34364643692970276,
                    0.3508621156215668,
                    0.3456619083881378,
                    0.34979426860809326,
                    0.34350845217704773,
                    0.34187978506088257,
                    0.34535735845565796,
                    0.3460431694984436,
                    0.3404994010925293,
                    0.34047168493270874,
                    0.34123149514198303,
                    0.34259098768234253,
                    0.3435901999473572,
                    0.34180188179016113,
                    0.34374821186065674,
                    0.34752240777015686,
                    0.34124013781547546,
                    0.34001073241233826,
                    0.3455590307712555,
                    0.3481930196285248,
                    0.3405646085739136,
                    0.3421468138694763,
                    0.3449459373950958,
                    0.3409525752067566,
                    0.34122058749198914,
                    0.3476684093475342,
                    0.34373944997787476,
                    0.34327200055122375,
                    0.34803080558776855,
                    0.34455448389053345,
                    0.34414610266685486,
                    0.3462512195110321,
                    0.34492969512939453,
                    0.34496814012527466,
                    0.3454382121562958,
                    0.3452810049057007,
                    0.34523606300354004,
                    0.34530165791511536,
                    0.34503814578056335,
                    0.3445492088794708,
                    0.3446250855922699,
                    0.34440338611602783,
                    0.34420228004455566,
                    0.3439737558364868,
                    0.3439793586730957,
                    0.3440951704978943,
                    0.3439994752407074,
                    0.34395596385002136,
                    0.3439263701438904,
                    0.34389060735702515,
                    0.3438844382762909,
                    0.3438850939273834,
                    0.343891978263855,
                    0.34391188621520996,
                    0.3439222574234009,
                    0.3439302146434784,
                    0.3439801037311554,
                    0.34400850534439087,
                    0.34397706389427185,
                    0.3439980745315552,
                    0.3439876437187195,
                    0.3439781665802002,
                    0.3440079391002655,
                    0.3440110683441162,
                    0.34401267766952515,
                    0.34401601552963257,
                    0.34401610493659973,
                    0.3440156877040863
                  ]
                }
              ],
              "layout": {
                "height": 500,
                "template": {
                  "data": {
                    "bar": [
                      {
                        "error_x": {
                          "color": "#2a3f5f"
                        },
                        "error_y": {
                          "color": "#2a3f5f"
                        },
                        "marker": {
                          "line": {
                            "color": "#E5ECF6",
                            "width": 0.5
                          }
                        },
                        "type": "bar"
                      }
                    ],
                    "barpolar": [
                      {
                        "marker": {
                          "line": {
                            "color": "#E5ECF6",
                            "width": 0.5
                          }
                        },
                        "type": "barpolar"
                      }
                    ],
                    "carpet": [
                      {
                        "aaxis": {
                          "endlinecolor": "#2a3f5f",
                          "gridcolor": "white",
                          "linecolor": "white",
                          "minorgridcolor": "white",
                          "startlinecolor": "#2a3f5f"
                        },
                        "baxis": {
                          "endlinecolor": "#2a3f5f",
                          "gridcolor": "white",
                          "linecolor": "white",
                          "minorgridcolor": "white",
                          "startlinecolor": "#2a3f5f"
                        },
                        "type": "carpet"
                      }
                    ],
                    "choropleth": [
                      {
                        "colorbar": {
                          "outlinewidth": 0,
                          "ticks": ""
                        },
                        "type": "choropleth"
                      }
                    ],
                    "contour": [
                      {
                        "colorbar": {
                          "outlinewidth": 0,
                          "ticks": ""
                        },
                        "colorscale": [
                          [
                            0,
                            "#0d0887"
                          ],
                          [
                            0.1111111111111111,
                            "#46039f"
                          ],
                          [
                            0.2222222222222222,
                            "#7201a8"
                          ],
                          [
                            0.3333333333333333,
                            "#9c179e"
                          ],
                          [
                            0.4444444444444444,
                            "#bd3786"
                          ],
                          [
                            0.5555555555555556,
                            "#d8576b"
                          ],
                          [
                            0.6666666666666666,
                            "#ed7953"
                          ],
                          [
                            0.7777777777777778,
                            "#fb9f3a"
                          ],
                          [
                            0.8888888888888888,
                            "#fdca26"
                          ],
                          [
                            1,
                            "#f0f921"
                          ]
                        ],
                        "type": "contour"
                      }
                    ],
                    "contourcarpet": [
                      {
                        "colorbar": {
                          "outlinewidth": 0,
                          "ticks": ""
                        },
                        "type": "contourcarpet"
                      }
                    ],
                    "heatmap": [
                      {
                        "colorbar": {
                          "outlinewidth": 0,
                          "ticks": ""
                        },
                        "colorscale": [
                          [
                            0,
                            "#0d0887"
                          ],
                          [
                            0.1111111111111111,
                            "#46039f"
                          ],
                          [
                            0.2222222222222222,
                            "#7201a8"
                          ],
                          [
                            0.3333333333333333,
                            "#9c179e"
                          ],
                          [
                            0.4444444444444444,
                            "#bd3786"
                          ],
                          [
                            0.5555555555555556,
                            "#d8576b"
                          ],
                          [
                            0.6666666666666666,
                            "#ed7953"
                          ],
                          [
                            0.7777777777777778,
                            "#fb9f3a"
                          ],
                          [
                            0.8888888888888888,
                            "#fdca26"
                          ],
                          [
                            1,
                            "#f0f921"
                          ]
                        ],
                        "type": "heatmap"
                      }
                    ],
                    "heatmapgl": [
                      {
                        "colorbar": {
                          "outlinewidth": 0,
                          "ticks": ""
                        },
                        "colorscale": [
                          [
                            0,
                            "#0d0887"
                          ],
                          [
                            0.1111111111111111,
                            "#46039f"
                          ],
                          [
                            0.2222222222222222,
                            "#7201a8"
                          ],
                          [
                            0.3333333333333333,
                            "#9c179e"
                          ],
                          [
                            0.4444444444444444,
                            "#bd3786"
                          ],
                          [
                            0.5555555555555556,
                            "#d8576b"
                          ],
                          [
                            0.6666666666666666,
                            "#ed7953"
                          ],
                          [
                            0.7777777777777778,
                            "#fb9f3a"
                          ],
                          [
                            0.8888888888888888,
                            "#fdca26"
                          ],
                          [
                            1,
                            "#f0f921"
                          ]
                        ],
                        "type": "heatmapgl"
                      }
                    ],
                    "histogram": [
                      {
                        "marker": {
                          "colorbar": {
                            "outlinewidth": 0,
                            "ticks": ""
                          }
                        },
                        "type": "histogram"
                      }
                    ],
                    "histogram2d": [
                      {
                        "colorbar": {
                          "outlinewidth": 0,
                          "ticks": ""
                        },
                        "colorscale": [
                          [
                            0,
                            "#0d0887"
                          ],
                          [
                            0.1111111111111111,
                            "#46039f"
                          ],
                          [
                            0.2222222222222222,
                            "#7201a8"
                          ],
                          [
                            0.3333333333333333,
                            "#9c179e"
                          ],
                          [
                            0.4444444444444444,
                            "#bd3786"
                          ],
                          [
                            0.5555555555555556,
                            "#d8576b"
                          ],
                          [
                            0.6666666666666666,
                            "#ed7953"
                          ],
                          [
                            0.7777777777777778,
                            "#fb9f3a"
                          ],
                          [
                            0.8888888888888888,
                            "#fdca26"
                          ],
                          [
                            1,
                            "#f0f921"
                          ]
                        ],
                        "type": "histogram2d"
                      }
                    ],
                    "histogram2dcontour": [
                      {
                        "colorbar": {
                          "outlinewidth": 0,
                          "ticks": ""
                        },
                        "colorscale": [
                          [
                            0,
                            "#0d0887"
                          ],
                          [
                            0.1111111111111111,
                            "#46039f"
                          ],
                          [
                            0.2222222222222222,
                            "#7201a8"
                          ],
                          [
                            0.3333333333333333,
                            "#9c179e"
                          ],
                          [
                            0.4444444444444444,
                            "#bd3786"
                          ],
                          [
                            0.5555555555555556,
                            "#d8576b"
                          ],
                          [
                            0.6666666666666666,
                            "#ed7953"
                          ],
                          [
                            0.7777777777777778,
                            "#fb9f3a"
                          ],
                          [
                            0.8888888888888888,
                            "#fdca26"
                          ],
                          [
                            1,
                            "#f0f921"
                          ]
                        ],
                        "type": "histogram2dcontour"
                      }
                    ],
                    "mesh3d": [
                      {
                        "colorbar": {
                          "outlinewidth": 0,
                          "ticks": ""
                        },
                        "type": "mesh3d"
                      }
                    ],
                    "parcoords": [
                      {
                        "line": {
                          "colorbar": {
                            "outlinewidth": 0,
                            "ticks": ""
                          }
                        },
                        "type": "parcoords"
                      }
                    ],
                    "pie": [
                      {
                        "automargin": true,
                        "type": "pie"
                      }
                    ],
                    "scatter": [
                      {
                        "marker": {
                          "colorbar": {
                            "outlinewidth": 0,
                            "ticks": ""
                          }
                        },
                        "type": "scatter"
                      }
                    ],
                    "scatter3d": [
                      {
                        "line": {
                          "colorbar": {
                            "outlinewidth": 0,
                            "ticks": ""
                          }
                        },
                        "marker": {
                          "colorbar": {
                            "outlinewidth": 0,
                            "ticks": ""
                          }
                        },
                        "type": "scatter3d"
                      }
                    ],
                    "scattercarpet": [
                      {
                        "marker": {
                          "colorbar": {
                            "outlinewidth": 0,
                            "ticks": ""
                          }
                        },
                        "type": "scattercarpet"
                      }
                    ],
                    "scattergeo": [
                      {
                        "marker": {
                          "colorbar": {
                            "outlinewidth": 0,
                            "ticks": ""
                          }
                        },
                        "type": "scattergeo"
                      }
                    ],
                    "scattergl": [
                      {
                        "marker": {
                          "colorbar": {
                            "outlinewidth": 0,
                            "ticks": ""
                          }
                        },
                        "type": "scattergl"
                      }
                    ],
                    "scattermapbox": [
                      {
                        "marker": {
                          "colorbar": {
                            "outlinewidth": 0,
                            "ticks": ""
                          }
                        },
                        "type": "scattermapbox"
                      }
                    ],
                    "scatterpolar": [
                      {
                        "marker": {
                          "colorbar": {
                            "outlinewidth": 0,
                            "ticks": ""
                          }
                        },
                        "type": "scatterpolar"
                      }
                    ],
                    "scatterpolargl": [
                      {
                        "marker": {
                          "colorbar": {
                            "outlinewidth": 0,
                            "ticks": ""
                          }
                        },
                        "type": "scatterpolargl"
                      }
                    ],
                    "scatterternary": [
                      {
                        "marker": {
                          "colorbar": {
                            "outlinewidth": 0,
                            "ticks": ""
                          }
                        },
                        "type": "scatterternary"
                      }
                    ],
                    "surface": [
                      {
                        "colorbar": {
                          "outlinewidth": 0,
                          "ticks": ""
                        },
                        "colorscale": [
                          [
                            0,
                            "#0d0887"
                          ],
                          [
                            0.1111111111111111,
                            "#46039f"
                          ],
                          [
                            0.2222222222222222,
                            "#7201a8"
                          ],
                          [
                            0.3333333333333333,
                            "#9c179e"
                          ],
                          [
                            0.4444444444444444,
                            "#bd3786"
                          ],
                          [
                            0.5555555555555556,
                            "#d8576b"
                          ],
                          [
                            0.6666666666666666,
                            "#ed7953"
                          ],
                          [
                            0.7777777777777778,
                            "#fb9f3a"
                          ],
                          [
                            0.8888888888888888,
                            "#fdca26"
                          ],
                          [
                            1,
                            "#f0f921"
                          ]
                        ],
                        "type": "surface"
                      }
                    ],
                    "table": [
                      {
                        "cells": {
                          "fill": {
                            "color": "#EBF0F8"
                          },
                          "line": {
                            "color": "white"
                          }
                        },
                        "header": {
                          "fill": {
                            "color": "#C8D4E3"
                          },
                          "line": {
                            "color": "white"
                          }
                        },
                        "type": "table"
                      }
                    ]
                  },
                  "layout": {
                    "annotationdefaults": {
                      "arrowcolor": "#2a3f5f",
                      "arrowhead": 0,
                      "arrowwidth": 1
                    },
                    "coloraxis": {
                      "colorbar": {
                        "outlinewidth": 0,
                        "ticks": ""
                      }
                    },
                    "colorscale": {
                      "diverging": [
                        [
                          0,
                          "#8e0152"
                        ],
                        [
                          0.1,
                          "#c51b7d"
                        ],
                        [
                          0.2,
                          "#de77ae"
                        ],
                        [
                          0.3,
                          "#f1b6da"
                        ],
                        [
                          0.4,
                          "#fde0ef"
                        ],
                        [
                          0.5,
                          "#f7f7f7"
                        ],
                        [
                          0.6,
                          "#e6f5d0"
                        ],
                        [
                          0.7,
                          "#b8e186"
                        ],
                        [
                          0.8,
                          "#7fbc41"
                        ],
                        [
                          0.9,
                          "#4d9221"
                        ],
                        [
                          1,
                          "#276419"
                        ]
                      ],
                      "sequential": [
                        [
                          0,
                          "#0d0887"
                        ],
                        [
                          0.1111111111111111,
                          "#46039f"
                        ],
                        [
                          0.2222222222222222,
                          "#7201a8"
                        ],
                        [
                          0.3333333333333333,
                          "#9c179e"
                        ],
                        [
                          0.4444444444444444,
                          "#bd3786"
                        ],
                        [
                          0.5555555555555556,
                          "#d8576b"
                        ],
                        [
                          0.6666666666666666,
                          "#ed7953"
                        ],
                        [
                          0.7777777777777778,
                          "#fb9f3a"
                        ],
                        [
                          0.8888888888888888,
                          "#fdca26"
                        ],
                        [
                          1,
                          "#f0f921"
                        ]
                      ],
                      "sequentialminus": [
                        [
                          0,
                          "#0d0887"
                        ],
                        [
                          0.1111111111111111,
                          "#46039f"
                        ],
                        [
                          0.2222222222222222,
                          "#7201a8"
                        ],
                        [
                          0.3333333333333333,
                          "#9c179e"
                        ],
                        [
                          0.4444444444444444,
                          "#bd3786"
                        ],
                        [
                          0.5555555555555556,
                          "#d8576b"
                        ],
                        [
                          0.6666666666666666,
                          "#ed7953"
                        ],
                        [
                          0.7777777777777778,
                          "#fb9f3a"
                        ],
                        [
                          0.8888888888888888,
                          "#fdca26"
                        ],
                        [
                          1,
                          "#f0f921"
                        ]
                      ]
                    },
                    "colorway": [
                      "#636efa",
                      "#EF553B",
                      "#00cc96",
                      "#ab63fa",
                      "#FFA15A",
                      "#19d3f3",
                      "#FF6692",
                      "#B6E880",
                      "#FF97FF",
                      "#FECB52"
                    ],
                    "font": {
                      "color": "#2a3f5f"
                    },
                    "geo": {
                      "bgcolor": "white",
                      "lakecolor": "white",
                      "landcolor": "#E5ECF6",
                      "showlakes": true,
                      "showland": true,
                      "subunitcolor": "white"
                    },
                    "hoverlabel": {
                      "align": "left"
                    },
                    "hovermode": "closest",
                    "mapbox": {
                      "style": "light"
                    },
                    "paper_bgcolor": "white",
                    "plot_bgcolor": "#E5ECF6",
                    "polar": {
                      "angularaxis": {
                        "gridcolor": "white",
                        "linecolor": "white",
                        "ticks": ""
                      },
                      "bgcolor": "#E5ECF6",
                      "radialaxis": {
                        "gridcolor": "white",
                        "linecolor": "white",
                        "ticks": ""
                      }
                    },
                    "scene": {
                      "xaxis": {
                        "backgroundcolor": "#E5ECF6",
                        "gridcolor": "white",
                        "gridwidth": 2,
                        "linecolor": "white",
                        "showbackground": true,
                        "ticks": "",
                        "zerolinecolor": "white"
                      },
                      "yaxis": {
                        "backgroundcolor": "#E5ECF6",
                        "gridcolor": "white",
                        "gridwidth": 2,
                        "linecolor": "white",
                        "showbackground": true,
                        "ticks": "",
                        "zerolinecolor": "white"
                      },
                      "zaxis": {
                        "backgroundcolor": "#E5ECF6",
                        "gridcolor": "white",
                        "gridwidth": 2,
                        "linecolor": "white",
                        "showbackground": true,
                        "ticks": "",
                        "zerolinecolor": "white"
                      }
                    },
                    "shapedefaults": {
                      "line": {
                        "color": "#2a3f5f"
                      }
                    },
                    "ternary": {
                      "aaxis": {
                        "gridcolor": "white",
                        "linecolor": "white",
                        "ticks": ""
                      },
                      "baxis": {
                        "gridcolor": "white",
                        "linecolor": "white",
                        "ticks": ""
                      },
                      "bgcolor": "#E5ECF6",
                      "caxis": {
                        "gridcolor": "white",
                        "linecolor": "white",
                        "ticks": ""
                      }
                    },
                    "title": {
                      "x": 0.05
                    },
                    "xaxis": {
                      "automargin": true,
                      "gridcolor": "white",
                      "linecolor": "white",
                      "ticks": "",
                      "title": {
                        "standoff": 15
                      },
                      "zerolinecolor": "white",
                      "zerolinewidth": 2
                    },
                    "yaxis": {
                      "automargin": true,
                      "gridcolor": "white",
                      "linecolor": "white",
                      "ticks": "",
                      "title": {
                        "standoff": 15
                      },
                      "zerolinecolor": "white",
                      "zerolinewidth": 2
                    }
                  }
                },
                "title": {
                  "text": "Зависимость ошибок на проверочной и валидационной <br> выборках от эпохи обучения",
                  "x": 0.5,
                  "xanchor": "center",
                  "y": 0.9,
                  "yanchor": "bottom"
                },
                "width": 800,
                "xaxis": {
                  "title": {
                    "text": "Эпоха"
                  }
                },
                "yaxis": {
                  "title": {
                    "text": "Ошибка"
                  }
                }
              }
            }
          },
          "metadata": {}
        }
      ]
    },
    {
      "cell_type": "code",
      "metadata": {
        "id": "yDPkefF6Pg6X"
      },
      "source": [
        "y_predict = model.predict(x_test)"
      ],
      "execution_count": 45,
      "outputs": []
    },
    {
      "cell_type": "code",
      "metadata": {
        "id": "WV89Nz6iPj-t"
      },
      "source": [
        "y_compet = (y_predict > 0.5).astype('int64').reshape((len(y_predict),))"
      ],
      "execution_count": 46,
      "outputs": []
    },
    {
      "cell_type": "code",
      "metadata": {
        "id": "ngN5KXXyP0iK",
        "outputId": "ccaf0994-bcde-483b-d632-89ac89e4a8da",
        "colab": {
          "base_uri": "https://localhost:8080/",
          "height": 340
        }
      },
      "source": [
        "y_compet"
      ],
      "execution_count": 47,
      "outputs": [
        {
          "output_type": "execute_result",
          "data": {
            "text/plain": "array([0, 0, 0, 0, 1, 0, 1, 0, 1, 0, 0, 0, 1, 0, 1, 1, 0, 0, 0, 0, 0, 1,\n       1, 0, 1, 0, 1, 0, 0, 0, 0, 0, 1, 1, 0, 0, 0, 0, 0, 0, 0, 0, 0, 1,\n       1, 0, 0, 0, 1, 0, 0, 0, 1, 1, 0, 0, 0, 0, 0, 1, 0, 0, 0, 1, 1, 1,\n       1, 0, 0, 1, 1, 0, 0, 0, 1, 0, 0, 1, 0, 1, 1, 0, 0, 0, 0, 0, 1, 0,\n       1, 1, 0, 0, 1, 0, 0, 0, 1, 0, 0, 0, 1, 0, 0, 0, 1, 0, 0, 0, 0, 0,\n       0, 1, 1, 1, 1, 0, 0, 1, 0, 1, 1, 0, 1, 0, 0, 0, 0, 1, 0, 0, 0, 0,\n       0, 0, 0, 0, 0, 0, 0, 0, 0, 1, 0, 0, 0, 0, 0, 0, 0, 0, 1, 0, 0, 0,\n       0, 0, 1, 0, 0, 1, 1, 1, 1, 0, 0, 1, 0, 0, 1, 0, 0, 0, 0, 0, 0, 1,\n       1, 0, 1, 1, 0, 0, 1, 0, 1, 0, 1, 0, 0, 0, 0, 0, 1, 0, 1, 0, 1, 0,\n       0, 0, 1, 1, 1, 1, 0, 0, 1, 0, 1, 0, 0, 0, 0, 1, 0, 0, 1, 0, 1, 0,\n       1, 0, 1, 0, 1, 1, 0, 1, 0, 0, 0, 1, 0, 0, 0, 0, 0, 0, 1, 1, 1, 1,\n       0, 0, 1, 0, 1, 0, 1, 0, 1, 0, 0, 0, 0, 0, 0, 0, 1, 0, 0, 0, 1, 1,\n       0, 0, 0, 0, 0, 0, 0, 0, 1, 1, 0, 1, 0, 0, 0, 0, 0, 1, 1, 1, 1, 0,\n       0, 0, 0, 0, 0, 1, 0, 0, 0, 0, 1, 0, 0, 0, 0, 0, 0, 0, 1, 1, 1, 1,\n       0, 0, 0, 0, 0, 1, 1, 1, 0, 0, 0, 0, 0, 0, 0, 0, 1, 0, 1, 0, 0, 0,\n       1, 0, 0, 1, 0, 0, 0, 0, 0, 1, 0, 0, 0, 1, 1, 0, 0, 1, 0, 1, 1, 0,\n       0, 0, 1, 0, 1, 0, 0, 0, 0, 1, 1, 0, 1, 0, 0, 0, 1, 0, 0, 1, 0, 0,\n       1, 1, 0, 0, 0, 0, 0, 0, 0, 0, 0, 1, 0, 0, 0, 0, 0, 1, 1, 0, 0, 1,\n       0, 1, 0, 0, 1, 0, 1, 0, 0, 0, 0, 0, 1, 1, 1, 1, 0, 0, 1, 0, 0, 1],\n      dtype=int64)"
          },
          "metadata": {},
          "execution_count": 47
        }
      ]
    },
    {
      "cell_type": "code",
      "metadata": {
        "id": "ggFV03kDP8db",
        "outputId": "f15a6861-0309-4d85-f300-6a1c282b21fe",
        "colab": {
          "base_uri": "https://localhost:8080/",
          "height": 34
        },
        "tags": []
      },
      "source": [
        "# Участие в конкурсе\n",
        "pass_id = all_data[len_train_data:].index.values\n",
        "submit = pd.DataFrame({'PassengerId':pass_id,'Survived':y_compet})\n",
        "#creating submission file\n",
        "filename = 'team_submission.csv'\n",
        "submit.to_csv(filename,index=False)\n",
        "print('Saved file: ' + filename)"
      ],
      "execution_count": 48,
      "outputs": [
        {
          "output_type": "stream",
          "name": "stdout",
          "text": "Saved file: team_submission.csv\n"
        }
      ]
    },
    {
      "cell_type": "code",
      "metadata": {
        "id": "okQfhRTeQBEY",
        "outputId": "1b0e40b0-3352-4d61-fc99-9ce8bd0da1b5",
        "colab": {
          "base_uri": "https://localhost:8080/",
          "height": 204
        }
      },
      "source": [
        "submit.head()"
      ],
      "execution_count": 49,
      "outputs": [
        {
          "output_type": "execute_result",
          "data": {
            "text/plain": "   PassengerId  Survived\n0          892         0\n1          893         0\n2          894         0\n3          895         0\n4          896         1",
            "text/html": "<div>\n<style scoped>\n    .dataframe tbody tr th:only-of-type {\n        vertical-align: middle;\n    }\n\n    .dataframe tbody tr th {\n        vertical-align: top;\n    }\n\n    .dataframe thead th {\n        text-align: right;\n    }\n</style>\n<table border=\"1\" class=\"dataframe\">\n  <thead>\n    <tr style=\"text-align: right;\">\n      <th></th>\n      <th>PassengerId</th>\n      <th>Survived</th>\n    </tr>\n  </thead>\n  <tbody>\n    <tr>\n      <th>0</th>\n      <td>892</td>\n      <td>0</td>\n    </tr>\n    <tr>\n      <th>1</th>\n      <td>893</td>\n      <td>0</td>\n    </tr>\n    <tr>\n      <th>2</th>\n      <td>894</td>\n      <td>0</td>\n    </tr>\n    <tr>\n      <th>3</th>\n      <td>895</td>\n      <td>0</td>\n    </tr>\n    <tr>\n      <th>4</th>\n      <td>896</td>\n      <td>1</td>\n    </tr>\n  </tbody>\n</table>\n</div>"
          },
          "metadata": {},
          "execution_count": 49
        }
      ]
    },
    {
      "cell_type": "code",
      "metadata": {
        "id": "qZ0rzdceQKAg",
        "outputId": "14496b2a-0d6a-41d1-8918-94cc3843fb18",
        "colab": {
          "base_uri": "https://localhost:8080/",
          "height": 68
        },
        "tags": []
      },
      "source": [
        "# Отправка прогноза на kaggle\n",
        "!kaggle competitions submit -c titanic -f team_submission.csv -m \"test submission.\""
      ],
      "execution_count": 50,
      "outputs": [
        {
          "output_type": "stream",
          "name": "stdout",
          "text": "Successfully submitted to Titanic: Machine Learning from Disaster\n  0%|          | 0.00/3.18k [00:00&lt;?, ?B/s]\n100%|██████████| 3.18k/3.18k [00:00&lt;00:00, 19.3kB/s]\n100%|██████████| 3.18k/3.18k [00:05&lt;00:00, 566B/s]  \n\n"
        }
      ]
    },
    {
      "source": [
        "Точность предсказания на kaggle составила: 0.77272"
      ],
      "cell_type": "markdown",
      "metadata": {}
    }
  ]
}